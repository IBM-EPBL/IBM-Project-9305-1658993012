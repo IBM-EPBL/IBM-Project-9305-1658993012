{
  "nbformat": 4,
  "nbformat_minor": 0,
  "metadata": {
    "colab": {
      "provenance": []
    },
    "kernelspec": {
      "name": "python3",
      "display_name": "Python 3"
    },
    "language_info": {
      "name": "python"
    }
  },
  "cells": [
    {
      "cell_type": "markdown",
      "source": [
        "Customer Segmentation Analysis"
      ],
      "metadata": {
        "id": "wqTkZ22ibV41"
      }
    },
    {
      "cell_type": "code",
      "source": [
        "import numpy as np\n",
        "import pandas as pd\n",
        "import matplotlib.pyplot as plt\n",
        "import seaborn as sns"
      ],
      "metadata": {
        "id": "OXqJX-6dbRJg"
      },
      "execution_count": 3,
      "outputs": []
    },
    {
      "cell_type": "markdown",
      "source": [
        "Loading the dataset"
      ],
      "metadata": {
        "id": "ccqxhenYbaVt"
      }
    },
    {
      "cell_type": "code",
      "source": [
        "df=pd.read_csv(\"Mall_Customers.csv\")\n",
        "df.head()"
      ],
      "metadata": {
        "colab": {
          "base_uri": "https://localhost:8080/",
          "height": 206
        },
        "id": "JlZOnIh0bcV2",
        "outputId": "b8263133-f793-41d9-b174-bde1cab8ecce"
      },
      "execution_count": 5,
      "outputs": [
        {
          "output_type": "execute_result",
          "data": {
            "text/plain": [
              "   CustomerID  Gender  Age  Annual Income (k$)  Spending Score (1-100)\n",
              "0           1    Male   19                  15                      39\n",
              "1           2    Male   21                  15                      81\n",
              "2           3  Female   20                  16                       6\n",
              "3           4  Female   23                  16                      77\n",
              "4           5  Female   31                  17                      40"
            ],
            "text/html": [
              "\n",
              "  <div id=\"df-3b189d15-c3c3-4d66-9503-a7b1865ce907\">\n",
              "    <div class=\"colab-df-container\">\n",
              "      <div>\n",
              "<style scoped>\n",
              "    .dataframe tbody tr th:only-of-type {\n",
              "        vertical-align: middle;\n",
              "    }\n",
              "\n",
              "    .dataframe tbody tr th {\n",
              "        vertical-align: top;\n",
              "    }\n",
              "\n",
              "    .dataframe thead th {\n",
              "        text-align: right;\n",
              "    }\n",
              "</style>\n",
              "<table border=\"1\" class=\"dataframe\">\n",
              "  <thead>\n",
              "    <tr style=\"text-align: right;\">\n",
              "      <th></th>\n",
              "      <th>CustomerID</th>\n",
              "      <th>Gender</th>\n",
              "      <th>Age</th>\n",
              "      <th>Annual Income (k$)</th>\n",
              "      <th>Spending Score (1-100)</th>\n",
              "    </tr>\n",
              "  </thead>\n",
              "  <tbody>\n",
              "    <tr>\n",
              "      <th>0</th>\n",
              "      <td>1</td>\n",
              "      <td>Male</td>\n",
              "      <td>19</td>\n",
              "      <td>15</td>\n",
              "      <td>39</td>\n",
              "    </tr>\n",
              "    <tr>\n",
              "      <th>1</th>\n",
              "      <td>2</td>\n",
              "      <td>Male</td>\n",
              "      <td>21</td>\n",
              "      <td>15</td>\n",
              "      <td>81</td>\n",
              "    </tr>\n",
              "    <tr>\n",
              "      <th>2</th>\n",
              "      <td>3</td>\n",
              "      <td>Female</td>\n",
              "      <td>20</td>\n",
              "      <td>16</td>\n",
              "      <td>6</td>\n",
              "    </tr>\n",
              "    <tr>\n",
              "      <th>3</th>\n",
              "      <td>4</td>\n",
              "      <td>Female</td>\n",
              "      <td>23</td>\n",
              "      <td>16</td>\n",
              "      <td>77</td>\n",
              "    </tr>\n",
              "    <tr>\n",
              "      <th>4</th>\n",
              "      <td>5</td>\n",
              "      <td>Female</td>\n",
              "      <td>31</td>\n",
              "      <td>17</td>\n",
              "      <td>40</td>\n",
              "    </tr>\n",
              "  </tbody>\n",
              "</table>\n",
              "</div>\n",
              "      <button class=\"colab-df-convert\" onclick=\"convertToInteractive('df-3b189d15-c3c3-4d66-9503-a7b1865ce907')\"\n",
              "              title=\"Convert this dataframe to an interactive table.\"\n",
              "              style=\"display:none;\">\n",
              "        \n",
              "  <svg xmlns=\"http://www.w3.org/2000/svg\" height=\"24px\"viewBox=\"0 0 24 24\"\n",
              "       width=\"24px\">\n",
              "    <path d=\"M0 0h24v24H0V0z\" fill=\"none\"/>\n",
              "    <path d=\"M18.56 5.44l.94 2.06.94-2.06 2.06-.94-2.06-.94-.94-2.06-.94 2.06-2.06.94zm-11 1L8.5 8.5l.94-2.06 2.06-.94-2.06-.94L8.5 2.5l-.94 2.06-2.06.94zm10 10l.94 2.06.94-2.06 2.06-.94-2.06-.94-.94-2.06-.94 2.06-2.06.94z\"/><path d=\"M17.41 7.96l-1.37-1.37c-.4-.4-.92-.59-1.43-.59-.52 0-1.04.2-1.43.59L10.3 9.45l-7.72 7.72c-.78.78-.78 2.05 0 2.83L4 21.41c.39.39.9.59 1.41.59.51 0 1.02-.2 1.41-.59l7.78-7.78 2.81-2.81c.8-.78.8-2.07 0-2.86zM5.41 20L4 18.59l7.72-7.72 1.47 1.35L5.41 20z\"/>\n",
              "  </svg>\n",
              "      </button>\n",
              "      \n",
              "  <style>\n",
              "    .colab-df-container {\n",
              "      display:flex;\n",
              "      flex-wrap:wrap;\n",
              "      gap: 12px;\n",
              "    }\n",
              "\n",
              "    .colab-df-convert {\n",
              "      background-color: #E8F0FE;\n",
              "      border: none;\n",
              "      border-radius: 50%;\n",
              "      cursor: pointer;\n",
              "      display: none;\n",
              "      fill: #1967D2;\n",
              "      height: 32px;\n",
              "      padding: 0 0 0 0;\n",
              "      width: 32px;\n",
              "    }\n",
              "\n",
              "    .colab-df-convert:hover {\n",
              "      background-color: #E2EBFA;\n",
              "      box-shadow: 0px 1px 2px rgba(60, 64, 67, 0.3), 0px 1px 3px 1px rgba(60, 64, 67, 0.15);\n",
              "      fill: #174EA6;\n",
              "    }\n",
              "\n",
              "    [theme=dark] .colab-df-convert {\n",
              "      background-color: #3B4455;\n",
              "      fill: #D2E3FC;\n",
              "    }\n",
              "\n",
              "    [theme=dark] .colab-df-convert:hover {\n",
              "      background-color: #434B5C;\n",
              "      box-shadow: 0px 1px 3px 1px rgba(0, 0, 0, 0.15);\n",
              "      filter: drop-shadow(0px 1px 2px rgba(0, 0, 0, 0.3));\n",
              "      fill: #FFFFFF;\n",
              "    }\n",
              "  </style>\n",
              "\n",
              "      <script>\n",
              "        const buttonEl =\n",
              "          document.querySelector('#df-3b189d15-c3c3-4d66-9503-a7b1865ce907 button.colab-df-convert');\n",
              "        buttonEl.style.display =\n",
              "          google.colab.kernel.accessAllowed ? 'block' : 'none';\n",
              "\n",
              "        async function convertToInteractive(key) {\n",
              "          const element = document.querySelector('#df-3b189d15-c3c3-4d66-9503-a7b1865ce907');\n",
              "          const dataTable =\n",
              "            await google.colab.kernel.invokeFunction('convertToInteractive',\n",
              "                                                     [key], {});\n",
              "          if (!dataTable) return;\n",
              "\n",
              "          const docLinkHtml = 'Like what you see? Visit the ' +\n",
              "            '<a target=\"_blank\" href=https://colab.research.google.com/notebooks/data_table.ipynb>data table notebook</a>'\n",
              "            + ' to learn more about interactive tables.';\n",
              "          element.innerHTML = '';\n",
              "          dataTable['output_type'] = 'display_data';\n",
              "          await google.colab.output.renderOutput(dataTable, element);\n",
              "          const docLink = document.createElement('div');\n",
              "          docLink.innerHTML = docLinkHtml;\n",
              "          element.appendChild(docLink);\n",
              "        }\n",
              "      </script>\n",
              "    </div>\n",
              "  </div>\n",
              "  "
            ]
          },
          "metadata": {},
          "execution_count": 5
        }
      ]
    },
    {
      "cell_type": "code",
      "source": [
        "df.shape"
      ],
      "metadata": {
        "colab": {
          "base_uri": "https://localhost:8080/"
        },
        "id": "A2q7V_FibzKH",
        "outputId": "8aeb41f8-b0ba-4f18-d74f-aa27d857c8eb"
      },
      "execution_count": 6,
      "outputs": [
        {
          "output_type": "execute_result",
          "data": {
            "text/plain": [
              "(200, 5)"
            ]
          },
          "metadata": {},
          "execution_count": 6
        }
      ]
    },
    {
      "cell_type": "code",
      "source": [
        "df.info()"
      ],
      "metadata": {
        "colab": {
          "base_uri": "https://localhost:8080/"
        },
        "id": "iNzRV_P2b16m",
        "outputId": "d8643d3a-19e5-42f5-d046-15680081f2ef"
      },
      "execution_count": 7,
      "outputs": [
        {
          "output_type": "stream",
          "name": "stdout",
          "text": [
            "<class 'pandas.core.frame.DataFrame'>\n",
            "RangeIndex: 200 entries, 0 to 199\n",
            "Data columns (total 5 columns):\n",
            " #   Column                  Non-Null Count  Dtype \n",
            "---  ------                  --------------  ----- \n",
            " 0   CustomerID              200 non-null    int64 \n",
            " 1   Gender                  200 non-null    object\n",
            " 2   Age                     200 non-null    int64 \n",
            " 3   Annual Income (k$)      200 non-null    int64 \n",
            " 4   Spending Score (1-100)  200 non-null    int64 \n",
            "dtypes: int64(4), object(1)\n",
            "memory usage: 7.9+ KB\n"
          ]
        }
      ]
    },
    {
      "cell_type": "markdown",
      "source": [
        "Data Visualization"
      ],
      "metadata": {
        "id": "0vZw5YLfb6W1"
      }
    },
    {
      "cell_type": "markdown",
      "source": [
        "Univariate Analysis\n"
      ],
      "metadata": {
        "id": "pMoQCWfDcHVb"
      }
    },
    {
      "cell_type": "code",
      "source": [
        "sns.distplot(df[\"Age\"])"
      ],
      "metadata": {
        "colab": {
          "base_uri": "https://localhost:8080/",
          "height": 351
        },
        "id": "haZdxMlyb71U",
        "outputId": "0839180d-72af-4163-ed3d-30b9b3f5a393"
      },
      "execution_count": 8,
      "outputs": [
        {
          "output_type": "stream",
          "name": "stderr",
          "text": [
            "/usr/local/lib/python3.7/dist-packages/seaborn/distributions.py:2619: FutureWarning: `distplot` is a deprecated function and will be removed in a future version. Please adapt your code to use either `displot` (a figure-level function with similar flexibility) or `histplot` (an axes-level function for histograms).\n",
            "  warnings.warn(msg, FutureWarning)\n"
          ]
        },
        {
          "output_type": "execute_result",
          "data": {
            "text/plain": [
              "<matplotlib.axes._subplots.AxesSubplot at 0x7f9167ffb050>"
            ]
          },
          "metadata": {},
          "execution_count": 8
        },
        {
          "output_type": "display_data",
          "data": {
            "text/plain": [
              "<Figure size 432x288 with 1 Axes>"
            ],
            "image/png": "[encoded data removed]"
          },
          "metadata": {
            "needs_background": "light"
          }
        }
      ]
    },
    {
      "cell_type": "code",
      "source": [
        "sns.boxplot(df[\"Annual Income (k$)\"])"
      ],
      "metadata": {
        "colab": {
          "base_uri": "https://localhost:8080/",
          "height": 351
        },
        "id": "xBTlqkLgcOPk",
        "outputId": "88f21109-e502-449e-ecf2-3195d6f70819"
      },
      "execution_count": 9,
      "outputs": [
        {
          "output_type": "stream",
          "name": "stderr",
          "text": [
            "/usr/local/lib/python3.7/dist-packages/seaborn/_decorators.py:43: FutureWarning: Pass the following variable as a keyword arg: x. From version 0.12, the only valid positional argument will be `data`, and passing other arguments without an explicit keyword will result in an error or misinterpretation.\n",
            "  FutureWarning\n"
          ]
        },
        {
          "output_type": "execute_result",
          "data": {
            "text/plain": [
              "<matplotlib.axes._subplots.AxesSubplot at 0x7f91678d7c50>"
            ]
          },
          "metadata": {},
          "execution_count": 9
        },
        {
          "output_type": "display_data",
          "data": {
            "text/plain": [
              "<Figure size 432x288 with 1 Axes>"
            ],
            "image/png": "[encoded data removed]"
          },
          "metadata": {
            "needs_background": "light"
          }
        }
      ]
    },
    {
      "cell_type": "markdown",
      "source": [
        "Bivariate Analysis"
      ],
      "metadata": {
        "id": "vA7-tbhYcYhx"
      }
    },
    {
      "cell_type": "code",
      "source": [
        "sns.lineplot(df[\"Annual Income (k$)\"],df[\"Spending Score (1-100)\"])"
      ],
      "metadata": {
        "colab": {
          "base_uri": "https://localhost:8080/",
          "height": 351
        },
        "id": "_C0g8I8ycZ2w",
        "outputId": "b059c05b-2063-4359-ea38-cd899edc10ee"
      },
      "execution_count": 10,
      "outputs": [
        {
          "output_type": "stream",
          "name": "stderr",
          "text": [
            "/usr/local/lib/python3.7/dist-packages/seaborn/_decorators.py:43: FutureWarning: Pass the following variables as keyword args: x, y. From version 0.12, the only valid positional argument will be `data`, and passing other arguments without an explicit keyword will result in an error or misinterpretation.\n",
            "  FutureWarning\n"
          ]
        },
        {
          "output_type": "execute_result",
          "data": {
            "text/plain": [
              "<matplotlib.axes._subplots.AxesSubplot at 0x7f91678e9b90>"
            ]
          },
          "metadata": {},
          "execution_count": 10
        },
        {
          "output_type": "display_data",
          "data": {
            "text/plain": [
              "<Figure size 432x288 with 1 Axes>"
            ],
            "image/png": "[encoded data removed]"
          },
          "metadata": {
            "needs_background": "light"
          }
        }
      ]
    },
    {
      "cell_type": "code",
      "source": [
        "sns.FacetGrid(df,hue=\"Age\",size=5).map(plt.scatter,\"Annual Income (k$)\",\"Spending Score (1-100)\").add_legend()\n",
        "plt.show()"
      ],
      "metadata": {
        "colab": {
          "base_uri": "https://localhost:8080/",
          "height": 869
        },
        "id": "0ZfDJdz4cdj4",
        "outputId": "0deba13a-02d7-43f5-fd23-23f052fd0e53"
      },
      "execution_count": 11,
      "outputs": [
        {
          "output_type": "stream",
          "name": "stderr",
          "text": [
            "/usr/local/lib/python3.7/dist-packages/seaborn/axisgrid.py:337: UserWarning: The `size` parameter has been renamed to `height`; please update your code.\n",
            "  warnings.warn(msg, UserWarning)\n"
          ]
        },
        {
          "output_type": "display_data",
          "data": {
            "text/plain": [
              "<Figure size 408.75x360 with 1 Axes>"
            ],
            "image/png": "[encoded data removed]"
          },
          "metadata": {
            "needs_background": "light"
          }
        }
      ]
    },
    {
      "cell_type": "markdown",
      "source": [
        "Multivariate Analysis"
      ],
      "metadata": {
        "id": "QD1OyWlacgPP"
      }
    },
    {
      "cell_type": "code",
      "source": [
        "sns.pairplot(df)"
      ],
      "metadata": {
        "colab": {
          "base_uri": "https://localhost:8080/",
          "height": 743
        },
        "id": "Hg29Uwk9cg5P",
        "outputId": "023d80f8-4f17-4eed-f2dd-045f1eec3213"
      },
      "execution_count": 12,
      "outputs": [
        {
          "output_type": "execute_result",
          "data": {
            "text/plain": [
              "<seaborn.axisgrid.PairGrid at 0x7f9164db8fd0>"
            ]
          },
          "metadata": {},
          "execution_count": 12
        },
        {
          "output_type": "display_data",
          "data": {
            "text/plain": [
              "<Figure size 720x720 with 20 Axes>"
            ],
            "image/png": "[encoded data removed]"
          },
          "metadata": {
            "needs_background": "light"
          }
        }
      ]
    },
    {
      "cell_type": "markdown",
      "source": [
        "Descriptive Statistics"
      ],
      "metadata": {
        "id": "xKYaRMHaclfO"
      }
    },
    {
      "cell_type": "code",
      "source": [
        "df.mean()"
      ],
      "metadata": {
        "colab": {
          "base_uri": "https://localhost:8080/"
        },
        "id": "yXMo0SrFcmMn",
        "outputId": "9e91ee13-afc4-4922-fa61-e4da0e2040f8"
      },
      "execution_count": 13,
      "outputs": [
        {
          "output_type": "stream",
          "name": "stderr",
          "text": [
            "/usr/local/lib/python3.7/dist-packages/ipykernel_launcher.py:1: FutureWarning: Dropping of nuisance columns in DataFrame reductions (with 'numeric_only=None') is deprecated; in a future version this will raise TypeError.  Select only valid columns before calling the reduction.\n",
            "  \"\"\"Entry point for launching an IPython kernel.\n"
          ]
        },
        {
          "output_type": "execute_result",
          "data": {
            "text/plain": [
              "CustomerID                100.50\n",
              "Age                        38.85\n",
              "Annual Income (k$)         60.56\n",
              "Spending Score (1-100)     50.20\n",
              "dtype: float64"
            ]
          },
          "metadata": {},
          "execution_count": 13
        }
      ]
    },
    {
      "cell_type": "code",
      "source": [
        "df.median()"
      ],
      "metadata": {
        "colab": {
          "base_uri": "https://localhost:8080/"
        },
        "id": "2NUbvQsXcr9T",
        "outputId": "47542dae-d83e-4583-ffec-09be4ad8105e"
      },
      "execution_count": 14,
      "outputs": [
        {
          "output_type": "stream",
          "name": "stderr",
          "text": [
            "/usr/local/lib/python3.7/dist-packages/ipykernel_launcher.py:1: FutureWarning: Dropping of nuisance columns in DataFrame reductions (with 'numeric_only=None') is deprecated; in a future version this will raise TypeError.  Select only valid columns before calling the reduction.\n",
            "  \"\"\"Entry point for launching an IPython kernel.\n"
          ]
        },
        {
          "output_type": "execute_result",
          "data": {
            "text/plain": [
              "CustomerID                100.5\n",
              "Age                        36.0\n",
              "Annual Income (k$)         61.5\n",
              "Spending Score (1-100)     50.0\n",
              "dtype: float64"
            ]
          },
          "metadata": {},
          "execution_count": 14
        }
      ]
    },
    {
      "cell_type": "code",
      "source": [
        "df[\"Age\"].mode()"
      ],
      "metadata": {
        "colab": {
          "base_uri": "https://localhost:8080/"
        },
        "id": "hVR2zkimcxbi",
        "outputId": "9eaf27d3-d73f-4a54-837f-ddbf97596347"
      },
      "execution_count": 15,
      "outputs": [
        {
          "output_type": "execute_result",
          "data": {
            "text/plain": [
              "0    32\n",
              "dtype: int64"
            ]
          },
          "metadata": {},
          "execution_count": 15
        }
      ]
    },
    {
      "cell_type": "code",
      "source": [
        "df[\"Spending Score (1-100)\"].mode()"
      ],
      "metadata": {
        "colab": {
          "base_uri": "https://localhost:8080/"
        },
        "id": "upPWEaVuc6Or",
        "outputId": "55e93170-d4da-4195-e638-17bc86becbec"
      },
      "execution_count": 16,
      "outputs": [
        {
          "output_type": "execute_result",
          "data": {
            "text/plain": [
              "0    42\n",
              "dtype: int64"
            ]
          },
          "metadata": {},
          "execution_count": 16
        }
      ]
    },
    {
      "cell_type": "markdown",
      "source": [
        "Handling the Missing Values\n"
      ],
      "metadata": {
        "id": "zWMNHLxEc-RC"
      }
    },
    {
      "cell_type": "code",
      "source": [
        "df.isnull().sum()"
      ],
      "metadata": {
        "colab": {
          "base_uri": "https://localhost:8080/"
        },
        "id": "W4ycju81dDBC",
        "outputId": "ba5a2fd4-3ac7-4e0a-8fa6-a75dce40e9c9"
      },
      "execution_count": 18,
      "outputs": [
        {
          "output_type": "execute_result",
          "data": {
            "text/plain": [
              "CustomerID                0\n",
              "Gender                    0\n",
              "Age                       0\n",
              "Annual Income (k$)        0\n",
              "Spending Score (1-100)    0\n",
              "dtype: int64"
            ]
          },
          "metadata": {},
          "execution_count": 18
        }
      ]
    },
    {
      "cell_type": "markdown",
      "source": [
        "In the above dataset there are no missing values.If the missing values are present we can replace it using mean, median or mode of that feature."
      ],
      "metadata": {
        "id": "jEUa-2C1dLCq"
      }
    },
    {
      "cell_type": "markdown",
      "source": [
        "Finding and replacing the outliers"
      ],
      "metadata": {
        "id": "eLg4Y1o5dTqr"
      }
    },
    {
      "cell_type": "code",
      "source": [
        "sns.boxplot(df[\"Annual Income (k$)\"])"
      ],
      "metadata": {
        "colab": {
          "base_uri": "https://localhost:8080/",
          "height": 351
        },
        "id": "3jmiOTjFdVoL",
        "outputId": "be88f652-fe24-4c3b-af95-bafb007d1fb2"
      },
      "execution_count": 19,
      "outputs": [
        {
          "output_type": "stream",
          "name": "stderr",
          "text": [
            "/usr/local/lib/python3.7/dist-packages/seaborn/_decorators.py:43: FutureWarning: Pass the following variable as a keyword arg: x. From version 0.12, the only valid positional argument will be `data`, and passing other arguments without an explicit keyword will result in an error or misinterpretation.\n",
            "  FutureWarning\n"
          ]
        },
        {
          "output_type": "execute_result",
          "data": {
            "text/plain": [
              "<matplotlib.axes._subplots.AxesSubplot at 0x7f916484a290>"
            ]
          },
          "metadata": {},
          "execution_count": 19
        },
        {
          "output_type": "display_data",
          "data": {
            "text/plain": [
              "<Figure size 432x288 with 1 Axes>"
            ],
            "image/png": "[encoded data removed]"
          },
          "metadata": {
            "needs_background": "light"
          }
        }
      ]
    },
    {
      "cell_type": "markdown",
      "source": [
        "Removing the outliers using IQR Technique"
      ],
      "metadata": {
        "id": "DNE6SeTHdk-r"
      }
    },
    {
      "cell_type": "code",
      "source": [
        "Q1 = df['Annual Income (k$)'].quantile(0.25)\n",
        "Q3 = df['Annual Income (k$)'].quantile(0.75)\n",
        "IQR = Q3 - Q1\n",
        "whisker_width = 1.5\n",
        "lower_whisker = Q1 -(whisker_width*IQR)\n",
        "upper_whisker = Q3 +(whisker_width*IQR)\n",
        "df['Annual Income (k$)']=np.where(df['Annual Income (k$)']>upper_whisker,upper_whisker,np.where(df['Annual Income (k$)']<lower_whisker,lower_whisker,df['Annual Income (k$)']))\n",
        "df.shape"
      ],
      "metadata": {
        "colab": {
          "base_uri": "https://localhost:8080/"
        },
        "id": "5XrQZsQDdn0M",
        "outputId": "9be06fbe-3dfe-4502-d810-46706de93651"
      },
      "execution_count": 20,
      "outputs": [
        {
          "output_type": "execute_result",
          "data": {
            "text/plain": [
              "(200, 5)"
            ]
          },
          "metadata": {},
          "execution_count": 20
        }
      ]
    },
    {
      "cell_type": "code",
      "source": [
        "sns.boxplot(df['Annual Income (k$)'])"
      ],
      "metadata": {
        "colab": {
          "base_uri": "https://localhost:8080/",
          "height": 351
        },
        "id": "VXXVm4stdqG6",
        "outputId": "e8804943-3c64-42c9-9c9c-89188d90b0b4"
      },
      "execution_count": 21,
      "outputs": [
        {
          "output_type": "stream",
          "name": "stderr",
          "text": [
            "/usr/local/lib/python3.7/dist-packages/seaborn/_decorators.py:43: FutureWarning: Pass the following variable as a keyword arg: x. From version 0.12, the only valid positional argument will be `data`, and passing other arguments without an explicit keyword will result in an error or misinterpretation.\n",
            "  FutureWarning\n"
          ]
        },
        {
          "output_type": "execute_result",
          "data": {
            "text/plain": [
              "<matplotlib.axes._subplots.AxesSubplot at 0x7f9162fbe910>"
            ]
          },
          "metadata": {},
          "execution_count": 21
        },
        {
          "output_type": "display_data",
          "data": {
            "text/plain": [
              "<Figure size 432x288 with 1 Axes>"
            ],
            "image/png": "[encoded data removed]"
          },
          "metadata": {
            "needs_background": "light"
          }
        }
      ]
    },
    {
      "cell_type": "markdown",
      "source": [
        "Performing Encoding inorder to convert Categorical values into the numerical values"
      ],
      "metadata": {
        "id": "ZWEsTvPZdsjq"
      }
    },
    {
      "cell_type": "code",
      "source": [
        "from sklearn.preprocessing import LabelEncoder\n",
        "le = LabelEncoder()"
      ],
      "metadata": {
        "id": "rBVKCsf_dvnh"
      },
      "execution_count": 22,
      "outputs": []
    },
    {
      "cell_type": "markdown",
      "source": [
        "Performing Label Encoding"
      ],
      "metadata": {
        "id": "b6DmOROBdyPB"
      }
    },
    {
      "cell_type": "code",
      "source": [
        "df[\"Gender\"]=le.fit_transform(df[\"Gender\"])\n",
        "df.head()"
      ],
      "metadata": {
        "colab": {
          "base_uri": "https://localhost:8080/",
          "height": 206
        },
        "id": "kelKtGY_d0Fo",
        "outputId": "c4a64f42-c95f-46d8-a3f8-42e199228d9c"
      },
      "execution_count": 24,
      "outputs": [
        {
          "output_type": "execute_result",
          "data": {
            "text/plain": [
              "   CustomerID  Gender  Age  Annual Income (k$)  Spending Score (1-100)\n",
              "0           1       1   19                15.0                      39\n",
              "1           2       1   21                15.0                      81\n",
              "2           3       0   20                16.0                       6\n",
              "3           4       0   23                16.0                      77\n",
              "4           5       0   31                17.0                      40"
            ],
            "text/html": [
              "\n",
              "  <div id=\"df-559e5463-6571-4ffd-9490-13345f05f99f\">\n",
              "    <div class=\"colab-df-container\">\n",
              "      <div>\n",
              "<style scoped>\n",
              "    .dataframe tbody tr th:only-of-type {\n",
              "        vertical-align: middle;\n",
              "    }\n",
              "\n",
              "    .dataframe tbody tr th {\n",
              "        vertical-align: top;\n",
              "    }\n",
              "\n",
              "    .dataframe thead th {\n",
              "        text-align: right;\n",
              "    }\n",
              "</style>\n",
              "<table border=\"1\" class=\"dataframe\">\n",
              "  <thead>\n",
              "    <tr style=\"text-align: right;\">\n",
              "      <th></th>\n",
              "      <th>CustomerID</th>\n",
              "      <th>Gender</th>\n",
              "      <th>Age</th>\n",
              "      <th>Annual Income (k$)</th>\n",
              "      <th>Spending Score (1-100)</th>\n",
              "    </tr>\n",
              "  </thead>\n",
              "  <tbody>\n",
              "    <tr>\n",
              "      <th>0</th>\n",
              "      <td>1</td>\n",
              "      <td>1</td>\n",
              "      <td>19</td>\n",
              "      <td>15.0</td>\n",
              "      <td>39</td>\n",
              "    </tr>\n",
              "    <tr>\n",
              "      <th>1</th>\n",
              "      <td>2</td>\n",
              "      <td>1</td>\n",
              "      <td>21</td>\n",
              "      <td>15.0</td>\n",
              "      <td>81</td>\n",
              "    </tr>\n",
              "    <tr>\n",
              "      <th>2</th>\n",
              "      <td>3</td>\n",
              "      <td>0</td>\n",
              "      <td>20</td>\n",
              "      <td>16.0</td>\n",
              "      <td>6</td>\n",
              "    </tr>\n",
              "    <tr>\n",
              "      <th>3</th>\n",
              "      <td>4</td>\n",
              "      <td>0</td>\n",
              "      <td>23</td>\n",
              "      <td>16.0</td>\n",
              "      <td>77</td>\n",
              "    </tr>\n",
              "    <tr>\n",
              "      <th>4</th>\n",
              "      <td>5</td>\n",
              "      <td>0</td>\n",
              "      <td>31</td>\n",
              "      <td>17.0</td>\n",
              "      <td>40</td>\n",
              "    </tr>\n",
              "  </tbody>\n",
              "</table>\n",
              "</div>\n",
              "      <button class=\"colab-df-convert\" onclick=\"convertToInteractive('df-559e5463-6571-4ffd-9490-13345f05f99f')\"\n",
              "              title=\"Convert this dataframe to an interactive table.\"\n",
              "              style=\"display:none;\">\n",
              "        \n",
              "  <svg xmlns=\"http://www.w3.org/2000/svg\" height=\"24px\"viewBox=\"0 0 24 24\"\n",
              "       width=\"24px\">\n",
              "    <path d=\"M0 0h24v24H0V0z\" fill=\"none\"/>\n",
              "    <path d=\"M18.56 5.44l.94 2.06.94-2.06 2.06-.94-2.06-.94-.94-2.06-.94 2.06-2.06.94zm-11 1L8.5 8.5l.94-2.06 2.06-.94-2.06-.94L8.5 2.5l-.94 2.06-2.06.94zm10 10l.94 2.06.94-2.06 2.06-.94-2.06-.94-.94-2.06-.94 2.06-2.06.94z\"/><path d=\"M17.41 7.96l-1.37-1.37c-.4-.4-.92-.59-1.43-.59-.52 0-1.04.2-1.43.59L10.3 9.45l-7.72 7.72c-.78.78-.78 2.05 0 2.83L4 21.41c.39.39.9.59 1.41.59.51 0 1.02-.2 1.41-.59l7.78-7.78 2.81-2.81c.8-.78.8-2.07 0-2.86zM5.41 20L4 18.59l7.72-7.72 1.47 1.35L5.41 20z\"/>\n",
              "  </svg>\n",
              "      </button>\n",
              "      \n",
              "  <style>\n",
              "    .colab-df-container {\n",
              "      display:flex;\n",
              "      flex-wrap:wrap;\n",
              "      gap: 12px;\n",
              "    }\n",
              "\n",
              "    .colab-df-convert {\n",
              "      background-color: #E8F0FE;\n",
              "      border: none;\n",
              "      border-radius: 50%;\n",
              "      cursor: pointer;\n",
              "      display: none;\n",
              "      fill: #1967D2;\n",
              "      height: 32px;\n",
              "      padding: 0 0 0 0;\n",
              "      width: 32px;\n",
              "    }\n",
              "\n",
              "    .colab-df-convert:hover {\n",
              "      background-color: #E2EBFA;\n",
              "      box-shadow: 0px 1px 2px rgba(60, 64, 67, 0.3), 0px 1px 3px 1px rgba(60, 64, 67, 0.15);\n",
              "      fill: #174EA6;\n",
              "    }\n",
              "\n",
              "    [theme=dark] .colab-df-convert {\n",
              "      background-color: #3B4455;\n",
              "      fill: #D2E3FC;\n",
              "    }\n",
              "\n",
              "    [theme=dark] .colab-df-convert:hover {\n",
              "      background-color: #434B5C;\n",
              "      box-shadow: 0px 1px 3px 1px rgba(0, 0, 0, 0.15);\n",
              "      filter: drop-shadow(0px 1px 2px rgba(0, 0, 0, 0.3));\n",
              "      fill: #FFFFFF;\n",
              "    }\n",
              "  </style>\n",
              "\n",
              "      <script>\n",
              "        const buttonEl =\n",
              "          document.querySelector('#df-559e5463-6571-4ffd-9490-13345f05f99f button.colab-df-convert');\n",
              "        buttonEl.style.display =\n",
              "          google.colab.kernel.accessAllowed ? 'block' : 'none';\n",
              "\n",
              "        async function convertToInteractive(key) {\n",
              "          const element = document.querySelector('#df-559e5463-6571-4ffd-9490-13345f05f99f');\n",
              "          const dataTable =\n",
              "            await google.colab.kernel.invokeFunction('convertToInteractive',\n",
              "                                                     [key], {});\n",
              "          if (!dataTable) return;\n",
              "\n",
              "          const docLinkHtml = 'Like what you see? Visit the ' +\n",
              "            '<a target=\"_blank\" href=https://colab.research.google.com/notebooks/data_table.ipynb>data table notebook</a>'\n",
              "            + ' to learn more about interactive tables.';\n",
              "          element.innerHTML = '';\n",
              "          dataTable['output_type'] = 'display_data';\n",
              "          await google.colab.output.renderOutput(dataTable, element);\n",
              "          const docLink = document.createElement('div');\n",
              "          docLink.innerHTML = docLinkHtml;\n",
              "          element.appendChild(docLink);\n",
              "        }\n",
              "      </script>\n",
              "    </div>\n",
              "  </div>\n",
              "  "
            ]
          },
          "metadata": {},
          "execution_count": 24
        }
      ]
    },
    {
      "cell_type": "code",
      "source": [
        "df=df.drop(\"CustomerID\",axis=1)\n",
        "df.head()"
      ],
      "metadata": {
        "colab": {
          "base_uri": "https://localhost:8080/",
          "height": 206
        },
        "id": "NyIv4WfId4KY",
        "outputId": "2b4a5acc-de72-4b1c-e734-4b8991b76952"
      },
      "execution_count": 25,
      "outputs": [
        {
          "output_type": "execute_result",
          "data": {
            "text/plain": [
              "   Gender  Age  Annual Income (k$)  Spending Score (1-100)\n",
              "0       1   19                15.0                      39\n",
              "1       1   21                15.0                      81\n",
              "2       0   20                16.0                       6\n",
              "3       0   23                16.0                      77\n",
              "4       0   31                17.0                      40"
            ],
            "text/html": [
              "\n",
              "  <div id=\"df-4a0dc70b-772b-4b27-afcf-59e4a103e5ea\">\n",
              "    <div class=\"colab-df-container\">\n",
              "      <div>\n",
              "<style scoped>\n",
              "    .dataframe tbody tr th:only-of-type {\n",
              "        vertical-align: middle;\n",
              "    }\n",
              "\n",
              "    .dataframe tbody tr th {\n",
              "        vertical-align: top;\n",
              "    }\n",
              "\n",
              "    .dataframe thead th {\n",
              "        text-align: right;\n",
              "    }\n",
              "</style>\n",
              "<table border=\"1\" class=\"dataframe\">\n",
              "  <thead>\n",
              "    <tr style=\"text-align: right;\">\n",
              "      <th></th>\n",
              "      <th>Gender</th>\n",
              "      <th>Age</th>\n",
              "      <th>Annual Income (k$)</th>\n",
              "      <th>Spending Score (1-100)</th>\n",
              "    </tr>\n",
              "  </thead>\n",
              "  <tbody>\n",
              "    <tr>\n",
              "      <th>0</th>\n",
              "      <td>1</td>\n",
              "      <td>19</td>\n",
              "      <td>15.0</td>\n",
              "      <td>39</td>\n",
              "    </tr>\n",
              "    <tr>\n",
              "      <th>1</th>\n",
              "      <td>1</td>\n",
              "      <td>21</td>\n",
              "      <td>15.0</td>\n",
              "      <td>81</td>\n",
              "    </tr>\n",
              "    <tr>\n",
              "      <th>2</th>\n",
              "      <td>0</td>\n",
              "      <td>20</td>\n",
              "      <td>16.0</td>\n",
              "      <td>6</td>\n",
              "    </tr>\n",
              "    <tr>\n",
              "      <th>3</th>\n",
              "      <td>0</td>\n",
              "      <td>23</td>\n",
              "      <td>16.0</td>\n",
              "      <td>77</td>\n",
              "    </tr>\n",
              "    <tr>\n",
              "      <th>4</th>\n",
              "      <td>0</td>\n",
              "      <td>31</td>\n",
              "      <td>17.0</td>\n",
              "      <td>40</td>\n",
              "    </tr>\n",
              "  </tbody>\n",
              "</table>\n",
              "</div>\n",
              "      <button class=\"colab-df-convert\" onclick=\"convertToInteractive('df-4a0dc70b-772b-4b27-afcf-59e4a103e5ea')\"\n",
              "              title=\"Convert this dataframe to an interactive table.\"\n",
              "              style=\"display:none;\">\n",
              "        \n",
              "  <svg xmlns=\"http://www.w3.org/2000/svg\" height=\"24px\"viewBox=\"0 0 24 24\"\n",
              "       width=\"24px\">\n",
              "    <path d=\"M0 0h24v24H0V0z\" fill=\"none\"/>\n",
              "    <path d=\"M18.56 5.44l.94 2.06.94-2.06 2.06-.94-2.06-.94-.94-2.06-.94 2.06-2.06.94zm-11 1L8.5 8.5l.94-2.06 2.06-.94-2.06-.94L8.5 2.5l-.94 2.06-2.06.94zm10 10l.94 2.06.94-2.06 2.06-.94-2.06-.94-.94-2.06-.94 2.06-2.06.94z\"/><path d=\"M17.41 7.96l-1.37-1.37c-.4-.4-.92-.59-1.43-.59-.52 0-1.04.2-1.43.59L10.3 9.45l-7.72 7.72c-.78.78-.78 2.05 0 2.83L4 21.41c.39.39.9.59 1.41.59.51 0 1.02-.2 1.41-.59l7.78-7.78 2.81-2.81c.8-.78.8-2.07 0-2.86zM5.41 20L4 18.59l7.72-7.72 1.47 1.35L5.41 20z\"/>\n",
              "  </svg>\n",
              "      </button>\n",
              "      \n",
              "  <style>\n",
              "    .colab-df-container {\n",
              "      display:flex;\n",
              "      flex-wrap:wrap;\n",
              "      gap: 12px;\n",
              "    }\n",
              "\n",
              "    .colab-df-convert {\n",
              "      background-color: #E8F0FE;\n",
              "      border: none;\n",
              "      border-radius: 50%;\n",
              "      cursor: pointer;\n",
              "      display: none;\n",
              "      fill: #1967D2;\n",
              "      height: 32px;\n",
              "      padding: 0 0 0 0;\n",
              "      width: 32px;\n",
              "    }\n",
              "\n",
              "    .colab-df-convert:hover {\n",
              "      background-color: #E2EBFA;\n",
              "      box-shadow: 0px 1px 2px rgba(60, 64, 67, 0.3), 0px 1px 3px 1px rgba(60, 64, 67, 0.15);\n",
              "      fill: #174EA6;\n",
              "    }\n",
              "\n",
              "    [theme=dark] .colab-df-convert {\n",
              "      background-color: #3B4455;\n",
              "      fill: #D2E3FC;\n",
              "    }\n",
              "\n",
              "    [theme=dark] .colab-df-convert:hover {\n",
              "      background-color: #434B5C;\n",
              "      box-shadow: 0px 1px 3px 1px rgba(0, 0, 0, 0.15);\n",
              "      filter: drop-shadow(0px 1px 2px rgba(0, 0, 0, 0.3));\n",
              "      fill: #FFFFFF;\n",
              "    }\n",
              "  </style>\n",
              "\n",
              "      <script>\n",
              "        const buttonEl =\n",
              "          document.querySelector('#df-4a0dc70b-772b-4b27-afcf-59e4a103e5ea button.colab-df-convert');\n",
              "        buttonEl.style.display =\n",
              "          google.colab.kernel.accessAllowed ? 'block' : 'none';\n",
              "\n",
              "        async function convertToInteractive(key) {\n",
              "          const element = document.querySelector('#df-4a0dc70b-772b-4b27-afcf-59e4a103e5ea');\n",
              "          const dataTable =\n",
              "            await google.colab.kernel.invokeFunction('convertToInteractive',\n",
              "                                                     [key], {});\n",
              "          if (!dataTable) return;\n",
              "\n",
              "          const docLinkHtml = 'Like what you see? Visit the ' +\n",
              "            '<a target=\"_blank\" href=https://colab.research.google.com/notebooks/data_table.ipynb>data table notebook</a>'\n",
              "            + ' to learn more about interactive tables.';\n",
              "          element.innerHTML = '';\n",
              "          dataTable['output_type'] = 'display_data';\n",
              "          await google.colab.output.renderOutput(dataTable, element);\n",
              "          const docLink = document.createElement('div');\n",
              "          docLink.innerHTML = docLinkHtml;\n",
              "          element.appendChild(docLink);\n",
              "        }\n",
              "      </script>\n",
              "    </div>\n",
              "  </div>\n",
              "  "
            ]
          },
          "metadata": {},
          "execution_count": 25
        }
      ]
    },
    {
      "cell_type": "markdown",
      "source": [
        "Splitting the Data into independent and dependent features"
      ],
      "metadata": {
        "id": "azFVBIHed5_o"
      }
    },
    {
      "cell_type": "code",
      "source": [
        "x= df.iloc[:, [1, 2]].values\n",
        "x.shape"
      ],
      "metadata": {
        "colab": {
          "base_uri": "https://localhost:8080/"
        },
        "id": "vvJoLk83d7nY",
        "outputId": "cb6ad08e-7753-460f-d4b3-c1181840c04b"
      },
      "execution_count": 26,
      "outputs": [
        {
          "output_type": "execute_result",
          "data": {
            "text/plain": [
              "(200, 2)"
            ]
          },
          "metadata": {},
          "execution_count": 26
        }
      ]
    },
    {
      "cell_type": "code",
      "source": [
        "x"
      ],
      "metadata": {
        "colab": {
          "base_uri": "https://localhost:8080/"
        },
        "id": "24g-rY_qd9Yo",
        "outputId": "6e252139-fb8c-432d-c96e-54646121a429"
      },
      "execution_count": 27,
      "outputs": [
        {
          "output_type": "execute_result",
          "data": {
            "text/plain": [
              "array([[ 19.  ,  15.  ],\n",
              "       [ 21.  ,  15.  ],\n",
              "       [ 20.  ,  16.  ],\n",
              "       [ 23.  ,  16.  ],\n",
              "       [ 31.  ,  17.  ],\n",
              "       [ 22.  ,  17.  ],\n",
              "       [ 35.  ,  18.  ],\n",
              "       [ 23.  ,  18.  ],\n",
              "       [ 64.  ,  19.  ],\n",
              "       [ 30.  ,  19.  ],\n",
              "       [ 67.  ,  19.  ],\n",
              "       [ 35.  ,  19.  ],\n",
              "       [ 58.  ,  20.  ],\n",
              "       [ 24.  ,  20.  ],\n",
              "       [ 37.  ,  20.  ],\n",
              "       [ 22.  ,  20.  ],\n",
              "       [ 35.  ,  21.  ],\n",
              "       [ 20.  ,  21.  ],\n",
              "       [ 52.  ,  23.  ],\n",
              "       [ 35.  ,  23.  ],\n",
              "       [ 35.  ,  24.  ],\n",
              "       [ 25.  ,  24.  ],\n",
              "       [ 46.  ,  25.  ],\n",
              "       [ 31.  ,  25.  ],\n",
              "       [ 54.  ,  28.  ],\n",
              "       [ 29.  ,  28.  ],\n",
              "       [ 45.  ,  28.  ],\n",
              "       [ 35.  ,  28.  ],\n",
              "       [ 40.  ,  29.  ],\n",
              "       [ 23.  ,  29.  ],\n",
              "       [ 60.  ,  30.  ],\n",
              "       [ 21.  ,  30.  ],\n",
              "       [ 53.  ,  33.  ],\n",
              "       [ 18.  ,  33.  ],\n",
              "       [ 49.  ,  33.  ],\n",
              "       [ 21.  ,  33.  ],\n",
              "       [ 42.  ,  34.  ],\n",
              "       [ 30.  ,  34.  ],\n",
              "       [ 36.  ,  37.  ],\n",
              "       [ 20.  ,  37.  ],\n",
              "       [ 65.  ,  38.  ],\n",
              "       [ 24.  ,  38.  ],\n",
              "       [ 48.  ,  39.  ],\n",
              "       [ 31.  ,  39.  ],\n",
              "       [ 49.  ,  39.  ],\n",
              "       [ 24.  ,  39.  ],\n",
              "       [ 50.  ,  40.  ],\n",
              "       [ 27.  ,  40.  ],\n",
              "       [ 29.  ,  40.  ],\n",
              "       [ 31.  ,  40.  ],\n",
              "       [ 49.  ,  42.  ],\n",
              "       [ 33.  ,  42.  ],\n",
              "       [ 31.  ,  43.  ],\n",
              "       [ 59.  ,  43.  ],\n",
              "       [ 50.  ,  43.  ],\n",
              "       [ 47.  ,  43.  ],\n",
              "       [ 51.  ,  44.  ],\n",
              "       [ 69.  ,  44.  ],\n",
              "       [ 27.  ,  46.  ],\n",
              "       [ 53.  ,  46.  ],\n",
              "       [ 70.  ,  46.  ],\n",
              "       [ 19.  ,  46.  ],\n",
              "       [ 67.  ,  47.  ],\n",
              "       [ 54.  ,  47.  ],\n",
              "       [ 63.  ,  48.  ],\n",
              "       [ 18.  ,  48.  ],\n",
              "       [ 43.  ,  48.  ],\n",
              "       [ 68.  ,  48.  ],\n",
              "       [ 19.  ,  48.  ],\n",
              "       [ 32.  ,  48.  ],\n",
              "       [ 70.  ,  49.  ],\n",
              "       [ 47.  ,  49.  ],\n",
              "       [ 60.  ,  50.  ],\n",
              "       [ 60.  ,  50.  ],\n",
              "       [ 59.  ,  54.  ],\n",
              "       [ 26.  ,  54.  ],\n",
              "       [ 45.  ,  54.  ],\n",
              "       [ 40.  ,  54.  ],\n",
              "       [ 23.  ,  54.  ],\n",
              "       [ 49.  ,  54.  ],\n",
              "       [ 57.  ,  54.  ],\n",
              "       [ 38.  ,  54.  ],\n",
              "       [ 67.  ,  54.  ],\n",
              "       [ 46.  ,  54.  ],\n",
              "       [ 21.  ,  54.  ],\n",
              "       [ 48.  ,  54.  ],\n",
              "       [ 55.  ,  57.  ],\n",
              "       [ 22.  ,  57.  ],\n",
              "       [ 34.  ,  58.  ],\n",
              "       [ 50.  ,  58.  ],\n",
              "       [ 68.  ,  59.  ],\n",
              "       [ 18.  ,  59.  ],\n",
              "       [ 48.  ,  60.  ],\n",
              "       [ 40.  ,  60.  ],\n",
              "       [ 32.  ,  60.  ],\n",
              "       [ 24.  ,  60.  ],\n",
              "       [ 47.  ,  60.  ],\n",
              "       [ 27.  ,  60.  ],\n",
              "       [ 48.  ,  61.  ],\n",
              "       [ 20.  ,  61.  ],\n",
              "       [ 23.  ,  62.  ],\n",
              "       [ 49.  ,  62.  ],\n",
              "       [ 67.  ,  62.  ],\n",
              "       [ 26.  ,  62.  ],\n",
              "       [ 49.  ,  62.  ],\n",
              "       [ 21.  ,  62.  ],\n",
              "       [ 66.  ,  63.  ],\n",
              "       [ 54.  ,  63.  ],\n",
              "       [ 68.  ,  63.  ],\n",
              "       [ 66.  ,  63.  ],\n",
              "       [ 65.  ,  63.  ],\n",
              "       [ 19.  ,  63.  ],\n",
              "       [ 38.  ,  64.  ],\n",
              "       [ 19.  ,  64.  ],\n",
              "       [ 18.  ,  65.  ],\n",
              "       [ 19.  ,  65.  ],\n",
              "       [ 63.  ,  65.  ],\n",
              "       [ 49.  ,  65.  ],\n",
              "       [ 51.  ,  67.  ],\n",
              "       [ 50.  ,  67.  ],\n",
              "       [ 27.  ,  67.  ],\n",
              "       [ 38.  ,  67.  ],\n",
              "       [ 40.  ,  69.  ],\n",
              "       [ 39.  ,  69.  ],\n",
              "       [ 23.  ,  70.  ],\n",
              "       [ 31.  ,  70.  ],\n",
              "       [ 43.  ,  71.  ],\n",
              "       [ 40.  ,  71.  ],\n",
              "       [ 59.  ,  71.  ],\n",
              "       [ 38.  ,  71.  ],\n",
              "       [ 47.  ,  71.  ],\n",
              "       [ 39.  ,  71.  ],\n",
              "       [ 25.  ,  72.  ],\n",
              "       [ 31.  ,  72.  ],\n",
              "       [ 20.  ,  73.  ],\n",
              "       [ 29.  ,  73.  ],\n",
              "       [ 44.  ,  73.  ],\n",
              "       [ 32.  ,  73.  ],\n",
              "       [ 19.  ,  74.  ],\n",
              "       [ 35.  ,  74.  ],\n",
              "       [ 57.  ,  75.  ],\n",
              "       [ 32.  ,  75.  ],\n",
              "       [ 28.  ,  76.  ],\n",
              "       [ 32.  ,  76.  ],\n",
              "       [ 25.  ,  77.  ],\n",
              "       [ 28.  ,  77.  ],\n",
              "       [ 48.  ,  77.  ],\n",
              "       [ 32.  ,  77.  ],\n",
              "       [ 34.  ,  78.  ],\n",
              "       [ 34.  ,  78.  ],\n",
              "       [ 43.  ,  78.  ],\n",
              "       [ 39.  ,  78.  ],\n",
              "       [ 44.  ,  78.  ],\n",
              "       [ 38.  ,  78.  ],\n",
              "       [ 47.  ,  78.  ],\n",
              "       [ 27.  ,  78.  ],\n",
              "       [ 37.  ,  78.  ],\n",
              "       [ 30.  ,  78.  ],\n",
              "       [ 34.  ,  78.  ],\n",
              "       [ 30.  ,  78.  ],\n",
              "       [ 56.  ,  79.  ],\n",
              "       [ 29.  ,  79.  ],\n",
              "       [ 19.  ,  81.  ],\n",
              "       [ 31.  ,  81.  ],\n",
              "       [ 50.  ,  85.  ],\n",
              "       [ 36.  ,  85.  ],\n",
              "       [ 42.  ,  86.  ],\n",
              "       [ 33.  ,  86.  ],\n",
              "       [ 36.  ,  87.  ],\n",
              "       [ 32.  ,  87.  ],\n",
              "       [ 40.  ,  87.  ],\n",
              "       [ 28.  ,  87.  ],\n",
              "       [ 36.  ,  87.  ],\n",
              "       [ 36.  ,  87.  ],\n",
              "       [ 52.  ,  88.  ],\n",
              "       [ 30.  ,  88.  ],\n",
              "       [ 58.  ,  88.  ],\n",
              "       [ 27.  ,  88.  ],\n",
              "       [ 59.  ,  93.  ],\n",
              "       [ 35.  ,  93.  ],\n",
              "       [ 37.  ,  97.  ],\n",
              "       [ 32.  ,  97.  ],\n",
              "       [ 46.  ,  98.  ],\n",
              "       [ 29.  ,  98.  ],\n",
              "       [ 41.  ,  99.  ],\n",
              "       [ 30.  ,  99.  ],\n",
              "       [ 54.  , 101.  ],\n",
              "       [ 28.  , 101.  ],\n",
              "       [ 41.  , 103.  ],\n",
              "       [ 36.  , 103.  ],\n",
              "       [ 34.  , 103.  ],\n",
              "       [ 32.  , 103.  ],\n",
              "       [ 33.  , 113.  ],\n",
              "       [ 38.  , 113.  ],\n",
              "       [ 47.  , 120.  ],\n",
              "       [ 35.  , 120.  ],\n",
              "       [ 45.  , 126.  ],\n",
              "       [ 32.  , 126.  ],\n",
              "       [ 32.  , 132.75],\n",
              "       [ 30.  , 132.75]])"
            ]
          },
          "metadata": {},
          "execution_count": 27
        }
      ]
    },
    {
      "cell_type": "code",
      "source": [
        "y=df.iloc[:,-1].values\n",
        "print(y)"
      ],
      "metadata": {
        "colab": {
          "base_uri": "https://localhost:8080/"
        },
        "id": "q8uSsmpUeAjY",
        "outputId": "5a22cc48-ed5a-4bb7-922e-da12884e1aeb"
      },
      "execution_count": 28,
      "outputs": [
        {
          "output_type": "stream",
          "name": "stdout",
          "text": [
            "[39 81  6 77 40 76  6 94  3 72 14 99 15 77 13 79 35 66 29 98 35 73  5 73\n",
            " 14 82 32 61 31 87  4 73  4 92 14 81 17 73 26 75 35 92 36 61 28 65 55 47\n",
            " 42 42 52 60 54 60 45 41 50 46 51 46 56 55 52 59 51 59 50 48 59 47 55 42\n",
            " 49 56 47 54 53 48 52 42 51 55 41 44 57 46 58 55 60 46 55 41 49 40 42 52\n",
            " 47 50 42 49 41 48 59 55 56 42 50 46 43 48 52 54 42 46 48 50 43 59 43 57\n",
            " 56 40 58 91 29 77 35 95 11 75  9 75 34 71  5 88  7 73 10 72  5 93 40 87\n",
            " 12 97 36 74 22 90 17 88 20 76 16 89  1 78  1 73 35 83  5 93 26 75 20 95\n",
            " 27 63 13 75 10 92 13 86 15 69 14 90 32 86 15 88 39 97 24 68 17 85 23 69\n",
            "  8 91 16 79 28 74 18 83]\n"
          ]
        }
      ]
    },
    {
      "cell_type": "markdown",
      "source": [
        "Scaling the independent variables"
      ],
      "metadata": {
        "id": "LHbDxLIQeDcC"
      }
    },
    {
      "cell_type": "code",
      "source": [
        "from sklearn.preprocessing import StandardScaler\n",
        "sc = StandardScaler()\n",
        "x_scaled = sc.fit_transform(x)"
      ],
      "metadata": {
        "id": "Ux8XiVYUeGPJ"
      },
      "execution_count": 29,
      "outputs": []
    },
    {
      "cell_type": "markdown",
      "source": [
        "Using Standard Scaler"
      ],
      "metadata": {
        "id": "I9JPbxHmeH1A"
      }
    },
    {
      "cell_type": "code",
      "source": [
        "x_scaled"
      ],
      "metadata": {
        "colab": {
          "base_uri": "https://localhost:8080/"
        },
        "id": "p4w0efsjeCbS",
        "outputId": "919ff63b-20bc-482a-a9b4-4764b4dd2f36"
      },
      "execution_count": 30,
      "outputs": [
        {
          "output_type": "execute_result",
          "data": {
            "text/plain": [
              "array([[-1.42456879, -1.74542941],\n",
              "       [-1.28103541, -1.74542941],\n",
              "       [-1.3528021 , -1.70708307],\n",
              "       [-1.13750203, -1.70708307],\n",
              "       [-0.56336851, -1.66873673],\n",
              "       [-1.20926872, -1.66873673],\n",
              "       [-0.27630176, -1.6303904 ],\n",
              "       [-1.13750203, -1.6303904 ],\n",
              "       [ 1.80493225, -1.59204406],\n",
              "       [-0.6351352 , -1.59204406],\n",
              "       [ 2.02023231, -1.59204406],\n",
              "       [-0.27630176, -1.59204406],\n",
              "       [ 1.37433211, -1.55369772],\n",
              "       [-1.06573534, -1.55369772],\n",
              "       [-0.13276838, -1.55369772],\n",
              "       [-1.20926872, -1.55369772],\n",
              "       [-0.27630176, -1.51535138],\n",
              "       [-1.3528021 , -1.51535138],\n",
              "       [ 0.94373197, -1.43865871],\n",
              "       [-0.27630176, -1.43865871],\n",
              "       [-0.27630176, -1.40031237],\n",
              "       [-0.99396865, -1.40031237],\n",
              "       [ 0.51313183, -1.36196603],\n",
              "       [-0.56336851, -1.36196603],\n",
              "       [ 1.08726535, -1.24692702],\n",
              "       [-0.70690189, -1.24692702],\n",
              "       [ 0.44136514, -1.24692702],\n",
              "       [-0.27630176, -1.24692702],\n",
              "       [ 0.08253169, -1.20858069],\n",
              "       [-1.13750203, -1.20858069],\n",
              "       [ 1.51786549, -1.17023435],\n",
              "       [-1.28103541, -1.17023435],\n",
              "       [ 1.01549866, -1.05519534],\n",
              "       [-1.49633548, -1.05519534],\n",
              "       [ 0.7284319 , -1.05519534],\n",
              "       [-1.28103541, -1.05519534],\n",
              "       [ 0.22606507, -1.016849  ],\n",
              "       [-0.6351352 , -1.016849  ],\n",
              "       [-0.20453507, -0.90180999],\n",
              "       [-1.3528021 , -0.90180999],\n",
              "       [ 1.87669894, -0.86346365],\n",
              "       [-1.06573534, -0.86346365],\n",
              "       [ 0.65666521, -0.82511731],\n",
              "       [-0.56336851, -0.82511731],\n",
              "       [ 0.7284319 , -0.82511731],\n",
              "       [-1.06573534, -0.82511731],\n",
              "       [ 0.80019859, -0.78677098],\n",
              "       [-0.85043527, -0.78677098],\n",
              "       [-0.70690189, -0.78677098],\n",
              "       [-0.56336851, -0.78677098],\n",
              "       [ 0.7284319 , -0.7100783 ],\n",
              "       [-0.41983513, -0.7100783 ],\n",
              "       [-0.56336851, -0.67173196],\n",
              "       [ 1.4460988 , -0.67173196],\n",
              "       [ 0.80019859, -0.67173196],\n",
              "       [ 0.58489852, -0.67173196],\n",
              "       [ 0.87196528, -0.63338563],\n",
              "       [ 2.16376569, -0.63338563],\n",
              "       [-0.85043527, -0.55669295],\n",
              "       [ 1.01549866, -0.55669295],\n",
              "       [ 2.23553238, -0.55669295],\n",
              "       [-1.42456879, -0.55669295],\n",
              "       [ 2.02023231, -0.51834661],\n",
              "       [ 1.08726535, -0.51834661],\n",
              "       [ 1.73316556, -0.48000028],\n",
              "       [-1.49633548, -0.48000028],\n",
              "       [ 0.29783176, -0.48000028],\n",
              "       [ 2.091999  , -0.48000028],\n",
              "       [-1.42456879, -0.48000028],\n",
              "       [-0.49160182, -0.48000028],\n",
              "       [ 2.23553238, -0.44165394],\n",
              "       [ 0.58489852, -0.44165394],\n",
              "       [ 1.51786549, -0.4033076 ],\n",
              "       [ 1.51786549, -0.4033076 ],\n",
              "       [ 1.4460988 , -0.24992225],\n",
              "       [-0.92220196, -0.24992225],\n",
              "       [ 0.44136514, -0.24992225],\n",
              "       [ 0.08253169, -0.24992225],\n",
              "       [-1.13750203, -0.24992225],\n",
              "       [ 0.7284319 , -0.24992225],\n",
              "       [ 1.30256542, -0.24992225],\n",
              "       [-0.06100169, -0.24992225],\n",
              "       [ 2.02023231, -0.24992225],\n",
              "       [ 0.51313183, -0.24992225],\n",
              "       [-1.28103541, -0.24992225],\n",
              "       [ 0.65666521, -0.24992225],\n",
              "       [ 1.15903204, -0.13488324],\n",
              "       [-1.20926872, -0.13488324],\n",
              "       [-0.34806844, -0.0965369 ],\n",
              "       [ 0.80019859, -0.0965369 ],\n",
              "       [ 2.091999  , -0.05819057],\n",
              "       [-1.49633548, -0.05819057],\n",
              "       [ 0.65666521, -0.01984423],\n",
              "       [ 0.08253169, -0.01984423],\n",
              "       [-0.49160182, -0.01984423],\n",
              "       [-1.06573534, -0.01984423],\n",
              "       [ 0.58489852, -0.01984423],\n",
              "       [-0.85043527, -0.01984423],\n",
              "       [ 0.65666521,  0.01850211],\n",
              "       [-1.3528021 ,  0.01850211],\n",
              "       [-1.13750203,  0.05684845],\n",
              "       [ 0.7284319 ,  0.05684845],\n",
              "       [ 2.02023231,  0.05684845],\n",
              "       [-0.92220196,  0.05684845],\n",
              "       [ 0.7284319 ,  0.05684845],\n",
              "       [-1.28103541,  0.05684845],\n",
              "       [ 1.94846562,  0.09519478],\n",
              "       [ 1.08726535,  0.09519478],\n",
              "       [ 2.091999  ,  0.09519478],\n",
              "       [ 1.94846562,  0.09519478],\n",
              "       [ 1.87669894,  0.09519478],\n",
              "       [-1.42456879,  0.09519478],\n",
              "       [-0.06100169,  0.13354112],\n",
              "       [-1.42456879,  0.13354112],\n",
              "       [-1.49633548,  0.17188746],\n",
              "       [-1.42456879,  0.17188746],\n",
              "       [ 1.73316556,  0.17188746],\n",
              "       [ 0.7284319 ,  0.17188746],\n",
              "       [ 0.87196528,  0.24858013],\n",
              "       [ 0.80019859,  0.24858013],\n",
              "       [-0.85043527,  0.24858013],\n",
              "       [-0.06100169,  0.24858013],\n",
              "       [ 0.08253169,  0.32527281],\n",
              "       [ 0.010765  ,  0.32527281],\n",
              "       [-1.13750203,  0.36361914],\n",
              "       [-0.56336851,  0.36361914],\n",
              "       [ 0.29783176,  0.40196548],\n",
              "       [ 0.08253169,  0.40196548],\n",
              "       [ 1.4460988 ,  0.40196548],\n",
              "       [-0.06100169,  0.40196548],\n",
              "       [ 0.58489852,  0.40196548],\n",
              "       [ 0.010765  ,  0.40196548],\n",
              "       [-0.99396865,  0.44031182],\n",
              "       [-0.56336851,  0.44031182],\n",
              "       [-1.3528021 ,  0.47865816],\n",
              "       [-0.70690189,  0.47865816],\n",
              "       [ 0.36959845,  0.47865816],\n",
              "       [-0.49160182,  0.47865816],\n",
              "       [-1.42456879,  0.51700449],\n",
              "       [-0.27630176,  0.51700449],\n",
              "       [ 1.30256542,  0.55535083],\n",
              "       [-0.49160182,  0.55535083],\n",
              "       [-0.77866858,  0.59369717],\n",
              "       [-0.49160182,  0.59369717],\n",
              "       [-0.99396865,  0.6320435 ],\n",
              "       [-0.77866858,  0.6320435 ],\n",
              "       [ 0.65666521,  0.6320435 ],\n",
              "       [-0.49160182,  0.6320435 ],\n",
              "       [-0.34806844,  0.67038984],\n",
              "       [-0.34806844,  0.67038984],\n",
              "       [ 0.29783176,  0.67038984],\n",
              "       [ 0.010765  ,  0.67038984],\n",
              "       [ 0.36959845,  0.67038984],\n",
              "       [-0.06100169,  0.67038984],\n",
              "       [ 0.58489852,  0.67038984],\n",
              "       [-0.85043527,  0.67038984],\n",
              "       [-0.13276838,  0.67038984],\n",
              "       [-0.6351352 ,  0.67038984],\n",
              "       [-0.34806844,  0.67038984],\n",
              "       [-0.6351352 ,  0.67038984],\n",
              "       [ 1.23079873,  0.70873618],\n",
              "       [-0.70690189,  0.70873618],\n",
              "       [-1.42456879,  0.78542885],\n",
              "       [-0.56336851,  0.78542885],\n",
              "       [ 0.80019859,  0.9388142 ],\n",
              "       [-0.20453507,  0.9388142 ],\n",
              "       [ 0.22606507,  0.97716054],\n",
              "       [-0.41983513,  0.97716054],\n",
              "       [-0.20453507,  1.01550688],\n",
              "       [-0.49160182,  1.01550688],\n",
              "       [ 0.08253169,  1.01550688],\n",
              "       [-0.77866858,  1.01550688],\n",
              "       [-0.20453507,  1.01550688],\n",
              "       [-0.20453507,  1.01550688],\n",
              "       [ 0.94373197,  1.05385321],\n",
              "       [-0.6351352 ,  1.05385321],\n",
              "       [ 1.37433211,  1.05385321],\n",
              "       [-0.85043527,  1.05385321],\n",
              "       [ 1.4460988 ,  1.2455849 ],\n",
              "       [-0.27630176,  1.2455849 ],\n",
              "       [-0.13276838,  1.39897025],\n",
              "       [-0.49160182,  1.39897025],\n",
              "       [ 0.51313183,  1.43731659],\n",
              "       [-0.70690189,  1.43731659],\n",
              "       [ 0.15429838,  1.47566292],\n",
              "       [-0.6351352 ,  1.47566292],\n",
              "       [ 1.08726535,  1.5523556 ],\n",
              "       [-0.77866858,  1.5523556 ],\n",
              "       [ 0.15429838,  1.62904827],\n",
              "       [-0.20453507,  1.62904827],\n",
              "       [-0.34806844,  1.62904827],\n",
              "       [-0.49160182,  1.62904827],\n",
              "       [-0.41983513,  2.01251165],\n",
              "       [-0.06100169,  2.01251165],\n",
              "       [ 0.58489852,  2.28093601],\n",
              "       [-0.27630176,  2.28093601],\n",
              "       [ 0.44136514,  2.51101403],\n",
              "       [-0.49160182,  2.51101403],\n",
              "       [-0.49160182,  2.76985181],\n",
              "       [-0.6351352 ,  2.76985181]])"
            ]
          },
          "metadata": {},
          "execution_count": 30
        }
      ]
    },
    {
      "cell_type": "code",
      "source": [
        "x_scaled  = pd.DataFrame(x_scaled, columns = df.columns[2:4])\n",
        "x_scaled"
      ],
      "metadata": {
        "colab": {
          "base_uri": "https://localhost:8080/",
          "height": 424
        },
        "id": "T-7opd5GeNMQ",
        "outputId": "340556be-a790-456d-d97a-5ec35f1d9669"
      },
      "execution_count": 31,
      "outputs": [
        {
          "output_type": "execute_result",
          "data": {
            "text/plain": [
              "     Annual Income (k$)  Spending Score (1-100)\n",
              "0             -1.424569               -1.745429\n",
              "1             -1.281035               -1.745429\n",
              "2             -1.352802               -1.707083\n",
              "3             -1.137502               -1.707083\n",
              "4             -0.563369               -1.668737\n",
              "..                  ...                     ...\n",
              "195           -0.276302                2.280936\n",
              "196            0.441365                2.511014\n",
              "197           -0.491602                2.511014\n",
              "198           -0.491602                2.769852\n",
              "199           -0.635135                2.769852\n",
              "\n",
              "[200 rows x 2 columns]"
            ],
            "text/html": [
              "\n",
              "  <div id=\"df-5a8127c7-1735-44cf-87f8-2b449eed6f64\">\n",
              "    <div class=\"colab-df-container\">\n",
              "      <div>\n",
              "<style scoped>\n",
              "    .dataframe tbody tr th:only-of-type {\n",
              "        vertical-align: middle;\n",
              "    }\n",
              "\n",
              "    .dataframe tbody tr th {\n",
              "        vertical-align: top;\n",
              "    }\n",
              "\n",
              "    .dataframe thead th {\n",
              "        text-align: right;\n",
              "    }\n",
              "</style>\n",
              "<table border=\"1\" class=\"dataframe\">\n",
              "  <thead>\n",
              "    <tr style=\"text-align: right;\">\n",
              "      <th></th>\n",
              "      <th>Annual Income (k$)</th>\n",
              "      <th>Spending Score (1-100)</th>\n",
              "    </tr>\n",
              "  </thead>\n",
              "  <tbody>\n",
              "    <tr>\n",
              "      <th>0</th>\n",
              "      <td>-1.424569</td>\n",
              "      <td>-1.745429</td>\n",
              "    </tr>\n",
              "    <tr>\n",
              "      <th>1</th>\n",
              "      <td>-1.281035</td>\n",
              "      <td>-1.745429</td>\n",
              "    </tr>\n",
              "    <tr>\n",
              "      <th>2</th>\n",
              "      <td>-1.352802</td>\n",
              "      <td>-1.707083</td>\n",
              "    </tr>\n",
              "    <tr>\n",
              "      <th>3</th>\n",
              "      <td>-1.137502</td>\n",
              "      <td>-1.707083</td>\n",
              "    </tr>\n",
              "    <tr>\n",
              "      <th>4</th>\n",
              "      <td>-0.563369</td>\n",
              "      <td>-1.668737</td>\n",
              "    </tr>\n",
              "    <tr>\n",
              "      <th>...</th>\n",
              "      <td>...</td>\n",
              "      <td>...</td>\n",
              "    </tr>\n",
              "    <tr>\n",
              "      <th>195</th>\n",
              "      <td>-0.276302</td>\n",
              "      <td>2.280936</td>\n",
              "    </tr>\n",
              "    <tr>\n",
              "      <th>196</th>\n",
              "      <td>0.441365</td>\n",
              "      <td>2.511014</td>\n",
              "    </tr>\n",
              "    <tr>\n",
              "      <th>197</th>\n",
              "      <td>-0.491602</td>\n",
              "      <td>2.511014</td>\n",
              "    </tr>\n",
              "    <tr>\n",
              "      <th>198</th>\n",
              "      <td>-0.491602</td>\n",
              "      <td>2.769852</td>\n",
              "    </tr>\n",
              "    <tr>\n",
              "      <th>199</th>\n",
              "      <td>-0.635135</td>\n",
              "      <td>2.769852</td>\n",
              "    </tr>\n",
              "  </tbody>\n",
              "</table>\n",
              "<p>200 rows × 2 columns</p>\n",
              "</div>\n",
              "      <button class=\"colab-df-convert\" onclick=\"convertToInteractive('df-5a8127c7-1735-44cf-87f8-2b449eed6f64')\"\n",
              "              title=\"Convert this dataframe to an interactive table.\"\n",
              "              style=\"display:none;\">\n",
              "        \n",
              "  <svg xmlns=\"http://www.w3.org/2000/svg\" height=\"24px\"viewBox=\"0 0 24 24\"\n",
              "       width=\"24px\">\n",
              "    <path d=\"M0 0h24v24H0V0z\" fill=\"none\"/>\n",
              "    <path d=\"M18.56 5.44l.94 2.06.94-2.06 2.06-.94-2.06-.94-.94-2.06-.94 2.06-2.06.94zm-11 1L8.5 8.5l.94-2.06 2.06-.94-2.06-.94L8.5 2.5l-.94 2.06-2.06.94zm10 10l.94 2.06.94-2.06 2.06-.94-2.06-.94-.94-2.06-.94 2.06-2.06.94z\"/><path d=\"M17.41 7.96l-1.37-1.37c-.4-.4-.92-.59-1.43-.59-.52 0-1.04.2-1.43.59L10.3 9.45l-7.72 7.72c-.78.78-.78 2.05 0 2.83L4 21.41c.39.39.9.59 1.41.59.51 0 1.02-.2 1.41-.59l7.78-7.78 2.81-2.81c.8-.78.8-2.07 0-2.86zM5.41 20L4 18.59l7.72-7.72 1.47 1.35L5.41 20z\"/>\n",
              "  </svg>\n",
              "      </button>\n",
              "      \n",
              "  <style>\n",
              "    .colab-df-container {\n",
              "      display:flex;\n",
              "      flex-wrap:wrap;\n",
              "      gap: 12px;\n",
              "    }\n",
              "\n",
              "    .colab-df-convert {\n",
              "      background-color: #E8F0FE;\n",
              "      border: none;\n",
              "      border-radius: 50%;\n",
              "      cursor: pointer;\n",
              "      display: none;\n",
              "      fill: #1967D2;\n",
              "      height: 32px;\n",
              "      padding: 0 0 0 0;\n",
              "      width: 32px;\n",
              "    }\n",
              "\n",
              "    .colab-df-convert:hover {\n",
              "      background-color: #E2EBFA;\n",
              "      box-shadow: 0px 1px 2px rgba(60, 64, 67, 0.3), 0px 1px 3px 1px rgba(60, 64, 67, 0.15);\n",
              "      fill: #174EA6;\n",
              "    }\n",
              "\n",
              "    [theme=dark] .colab-df-convert {\n",
              "      background-color: #3B4455;\n",
              "      fill: #D2E3FC;\n",
              "    }\n",
              "\n",
              "    [theme=dark] .colab-df-convert:hover {\n",
              "      background-color: #434B5C;\n",
              "      box-shadow: 0px 1px 3px 1px rgba(0, 0, 0, 0.15);\n",
              "      filter: drop-shadow(0px 1px 2px rgba(0, 0, 0, 0.3));\n",
              "      fill: #FFFFFF;\n",
              "    }\n",
              "  </style>\n",
              "\n",
              "      <script>\n",
              "        const buttonEl =\n",
              "          document.querySelector('#df-5a8127c7-1735-44cf-87f8-2b449eed6f64 button.colab-df-convert');\n",
              "        buttonEl.style.display =\n",
              "          google.colab.kernel.accessAllowed ? 'block' : 'none';\n",
              "\n",
              "        async function convertToInteractive(key) {\n",
              "          const element = document.querySelector('#df-5a8127c7-1735-44cf-87f8-2b449eed6f64');\n",
              "          const dataTable =\n",
              "            await google.colab.kernel.invokeFunction('convertToInteractive',\n",
              "                                                     [key], {});\n",
              "          if (!dataTable) return;\n",
              "\n",
              "          const docLinkHtml = 'Like what you see? Visit the ' +\n",
              "            '<a target=\"_blank\" href=https://colab.research.google.com/notebooks/data_table.ipynb>data table notebook</a>'\n",
              "            + ' to learn more about interactive tables.';\n",
              "          element.innerHTML = '';\n",
              "          dataTable['output_type'] = 'display_data';\n",
              "          await google.colab.output.renderOutput(dataTable, element);\n",
              "          const docLink = document.createElement('div');\n",
              "          docLink.innerHTML = docLinkHtml;\n",
              "          element.appendChild(docLink);\n",
              "        }\n",
              "      </script>\n",
              "    </div>\n",
              "  </div>\n",
              "  "
            ]
          },
          "metadata": {},
          "execution_count": 31
        }
      ]
    },
    {
      "cell_type": "markdown",
      "source": [
        "Perform any of the clustering algorithms and add the cluster data with the primary dataset\n",
        "K-means clustering based on annual income"
      ],
      "metadata": {
        "id": "tKu9Y9_feRxY"
      }
    },
    {
      "cell_type": "code",
      "source": [
        "X = df.iloc[:, [2, 3]].values\n",
        "from sklearn.cluster import KMeans  \n",
        "wcss_list= []  #Initializing the list for the values of WCSS  \n",
        "  \n",
        "#Using for loop for iterations from 1 to 10.  \n",
        "for i in range(1, 11):  \n",
        "    kmeans = KMeans(n_clusters=i, init='k-means++', random_state= 42)  \n",
        "    kmeans.fit(X)  \n",
        "    wcss_list.append(kmeans.inertia_)  \n",
        "plt.plot(range(1, 11), wcss_list)  \n",
        "plt.title('The Elbow Method', fontsize = 20)  \n",
        "plt.xlabel('Number of clusters(k)')  \n",
        "plt.ylabel('wcss_list')  \n",
        "plt.show()"
      ],
      "metadata": {
        "colab": {
          "base_uri": "https://localhost:8080/",
          "height": 300
        },
        "id": "Vaq9f9BSeRUX",
        "outputId": "af880cae-dc76-406b-f7bd-75397b4797f6"
      },
      "execution_count": 32,
      "outputs": [
        {
          "output_type": "display_data",
          "data": {
            "text/plain": [
              "<Figure size 432x288 with 1 Axes>"
            ],
            "image/png": "[encoded data removed]"
          },
          "metadata": {
            "needs_background": "light"
          }
        }
      ]
    },
    {
      "cell_type": "code",
      "source": [
        "kmeans = KMeans(n_clusters=5, init='k-means++', random_state= 42)  \n",
        "y_predict= kmeans.fit_predict(X)\n",
        "plt.scatter(X[y_predict == 0, 0], X[y_predict == 0, 1], s = 100, c = 'blue', label = 'Cluster 1') #for first cluster  \n",
        "plt.scatter(X[y_predict == 1, 0], X[y_predict == 1, 1], s = 100, c = 'green', label = 'Cluster 2') #for second cluster  \n",
        "plt.scatter(X[y_predict== 2, 0], X[y_predict == 2, 1], s = 100, c = 'red', label = 'Cluster 3') #for third cluster  \n",
        "plt.scatter(X[y_predict == 3, 0], X[y_predict == 3, 1], s = 100, c = 'cyan', label = 'Cluster 4') #for fourth cluster  \n",
        "plt.scatter(X[y_predict == 4, 0], X[y_predict == 4, 1], s = 100, c = 'magenta', label = 'Cluster 5') #for fifth cluster  \n",
        "plt.scatter(kmeans.cluster_centers_[:, 0], kmeans.cluster_centers_[:, 1], s = 300, c = 'yellow', label = 'Centroid')   \n",
        "plt.title('Clusters of customers')  \n",
        "plt.xlabel('Annual Income (k$)')  \n",
        "plt.ylabel('Spending Score (1-100)')  \n",
        "plt.legend()  \n",
        "plt.show()"
      ],
      "metadata": {
        "colab": {
          "base_uri": "https://localhost:8080/",
          "height": 295
        },
        "id": "vU1qe4rteWYv",
        "outputId": "30318df5-88bf-4957-eecd-a8a986894ed5"
      },
      "execution_count": 33,
      "outputs": [
        {
          "output_type": "display_data",
          "data": {
            "text/plain": [
              "<Figure size 432x288 with 1 Axes>"
            ],
            "image/png": "[encoded data removed]"
          },
          "metadata": {
            "needs_background": "light"
          }
        }
      ]
    },
    {
      "cell_type": "code",
      "source": [
        "X = df.iloc[:, [1, 3]].values\n",
        "wcss = []\n",
        "for i in range(1, 11):\n",
        "  kmeans = KMeans(n_clusters = i, init = 'k-means++', max_iter = 300, n_init = 10, random_state = 0)\n",
        "  kmeans.fit(X)\n",
        "  wcss.append(kmeans.inertia_)\n",
        "\n",
        "plt.rcParams['figure.figsize'] = (7, 5)\n",
        "plt.plot(range(1, 11), wcss)\n",
        "plt.title('The Elbow Method', fontsize = 20)\n",
        "plt.xlabel('Age')\n",
        "plt.ylabel('Count')\n",
        "plt.show()"
      ],
      "metadata": {
        "colab": {
          "base_uri": "https://localhost:8080/",
          "height": 355
        },
        "id": "v0ZzGfcReYSv",
        "outputId": "bc562e65-647a-40c3-f954-1f268fc48924"
      },
      "execution_count": 34,
      "outputs": [
        {
          "output_type": "display_data",
          "data": {
            "text/plain": [
              "<Figure size 504x360 with 1 Axes>"
            ],
            "image/png": "[encoded data removed]"
          },
          "metadata": {
            "needs_background": "light"
          }
        }
      ]
    },
    {
      "cell_type": "code",
      "source": [
        "kmeans = KMeans(n_clusters = 4, init = 'k-means++', max_iter = 300, n_init = 10, random_state = 0)\n",
        "ymeans = kmeans.fit_predict(X)\n",
        "\n",
        "plt.rcParams['figure.figsize'] = (10, 10)\n",
        "plt.title('Cluster of Ages')\n",
        "\n",
        "plt.scatter(X[ymeans == 0, 0], X[ymeans == 0, 1], s = 100, c = 'pink', label = 'Usual Customers' )\n",
        "plt.scatter(X[ymeans == 1, 0], X[ymeans == 1, 1], s = 100, c = 'orange', label = 'Priority Customers')\n",
        "plt.scatter(X[ymeans == 2, 0], X[ymeans == 2, 1], s = 100, c = 'lightgreen', label = 'Target Customers(Young)')\n",
        "plt.scatter(X[ymeans == 3, 0], X[ymeans == 3, 1], s = 100, c = 'red', label = 'Target Customers(Old)')\n",
        "plt.scatter(kmeans.cluster_centers_[:, 0], kmeans.cluster_centers_[:, 1], s = 50, c = 'black')\n",
        "\n",
        "plt.xlabel('Age')\n",
        "plt.ylabel('Spending Score (1-100)')\n",
        "plt.legend()\n",
        "plt.show()"
      ],
      "metadata": {
        "colab": {
          "base_uri": "https://localhost:8080/",
          "height": 621
        },
        "id": "KmUkhz_2eacH",
        "outputId": "bb4268c1-f02c-4560-c8a2-56f00b264923"
      },
      "execution_count": 35,
      "outputs": [
        {
          "output_type": "display_data",
          "data": {
            "text/plain": [
              "<Figure size 720x720 with 1 Axes>"
            ],
            "image/png": "[encoded data removed]"
          },
          "metadata": {
            "needs_background": "light"
          }
        }
      ]
    },
    {
      "cell_type": "markdown",
      "source": [
        "K-means clustering based on Gender"
      ],
      "metadata": {
        "id": "9jC6ScQCedBg"
      }
    },
    {
      "cell_type": "code",
      "source": [
        "X = df.iloc[:, [0, 3]].values\n",
        "from sklearn.cluster import KMeans\n",
        "\n",
        "wcss = []\n",
        "for i in range(1, 11):\n",
        "  kmeans = KMeans(n_clusters = i, init = 'k-means++', max_iter = 300, n_init = 10, random_state = 0)\n",
        "  kmeans.fit(X)\n",
        "  wcss.append(kmeans.inertia_)\n",
        "  \n",
        "plt.rcParams['figure.figsize'] = (7, 7)\n",
        "plt.title('The Elbow Method', fontsize = 20)\n",
        "plt.plot(range(1, 11), wcss)\n",
        "plt.xlabel('No. of Clusters', fontsize = 10)\n",
        "plt.ylabel('wcss')\n",
        "plt.show()"
      ],
      "metadata": {
        "colab": {
          "base_uri": "https://localhost:8080/",
          "height": 463
        },
        "id": "6_e8zPCKeeq_",
        "outputId": "cb6bd579-61df-49a4-ee06-dfc3b02567ce"
      },
      "execution_count": 36,
      "outputs": [
        {
          "output_type": "display_data",
          "data": {
            "text/plain": [
              "<Figure size 504x504 with 1 Axes>"
            ],
            "image/png": "[encoded data removed]"
          },
          "metadata": {
            "needs_background": "light"
          }
        }
      ]
    },
    {
      "cell_type": "code",
      "source": [
        "kmeans = KMeans(n_clusters = 3, max_iter = 300, n_init = 10, random_state = 0)\n",
        "ymeans = kmeans.fit_predict(X)\n",
        "\n",
        "plt.rcParams['figure.figsize'] = (10, 10)\n",
        "plt.scatter(X[ymeans == 0, 0], X[ymeans == 0, 1], s = 80, c = 'magenta', label = 'low spending score')\n",
        "plt.scatter(X[ymeans == 1, 0], X[ymeans == 1, 1], s = 80, c = 'cyan', label = 'medium spending score')\n",
        "plt.scatter(X[ymeans == 2, 0], X[ymeans == 2, 1], s = 80, c = 'red', label = 'high spending score')\n",
        "plt.scatter(kmeans.cluster_centers_[:,0], kmeans.cluster_centers_[:, 1], s = 50, color = 'blue')\n",
        "plt.legend()\n",
        "plt.show()"
      ],
      "metadata": {
        "colab": {
          "base_uri": "https://localhost:8080/",
          "height": 592
        },
        "id": "hL9WUF6Megn_",
        "outputId": "f4461e7d-57d8-435c-bc02-7d8651c744f4"
      },
      "execution_count": 37,
      "outputs": [
        {
          "output_type": "display_data",
          "data": {
            "text/plain": [
              "<Figure size 720x720 with 1 Axes>"
            ],
            "image/png": "[encoded data removed]"
          },
          "metadata": {
            "needs_background": "light"
          }
        }
      ]
    },
    {
      "cell_type": "markdown",
      "source": [
        "Split the data into training and testing"
      ],
      "metadata": {
        "id": "HbWpzQUielIu"
      }
    },
    {
      "cell_type": "code",
      "source": [
        "from sklearn.model_selection import train_test_split\n",
        "x_train, x_test, y_train, y_test = train_test_split(x, y, test_size = 0.3, random_state = 0)\n",
        "x_train"
      ],
      "metadata": {
        "colab": {
          "base_uri": "https://localhost:8080/"
        },
        "id": "FHigrI9xemtW",
        "outputId": "0e7fcd2d-6aed-4a90-8cbf-13fcd008dd76"
      },
      "execution_count": 38,
      "outputs": [
        {
          "output_type": "execute_result",
          "data": {
            "text/plain": [
              "array([[ 39.  ,  71.  ],\n",
              "       [ 47.  ,  60.  ],\n",
              "       [ 32.  ,  97.  ],\n",
              "       [ 35.  ,  23.  ],\n",
              "       [ 38.  ,  78.  ],\n",
              "       [ 48.  ,  60.  ],\n",
              "       [ 50.  ,  43.  ],\n",
              "       [ 31.  ,  81.  ],\n",
              "       [ 33.  ,  42.  ],\n",
              "       [ 55.  ,  57.  ],\n",
              "       [ 35.  ,  74.  ],\n",
              "       [ 68.  ,  59.  ],\n",
              "       [ 32.  ,  73.  ],\n",
              "       [ 49.  ,  62.  ],\n",
              "       [ 25.  ,  77.  ],\n",
              "       [ 50.  ,  58.  ],\n",
              "       [ 66.  ,  63.  ],\n",
              "       [ 37.  ,  20.  ],\n",
              "       [ 35.  ,  28.  ],\n",
              "       [ 32.  ,  75.  ],\n",
              "       [ 28.  , 101.  ],\n",
              "       [ 50.  ,  40.  ],\n",
              "       [ 19.  ,  74.  ],\n",
              "       [ 35.  , 120.  ],\n",
              "       [ 68.  ,  63.  ],\n",
              "       [ 67.  ,  47.  ],\n",
              "       [ 20.  ,  16.  ],\n",
              "       [ 53.  ,  46.  ],\n",
              "       [ 44.  ,  73.  ],\n",
              "       [ 32.  , 126.  ],\n",
              "       [ 31.  ,  39.  ],\n",
              "       [ 67.  ,  19.  ],\n",
              "       [ 47.  , 120.  ],\n",
              "       [ 60.  ,  50.  ],\n",
              "       [ 45.  , 126.  ],\n",
              "       [ 59.  ,  93.  ],\n",
              "       [ 30.  ,  88.  ],\n",
              "       [ 43.  ,  71.  ],\n",
              "       [ 40.  ,  60.  ],\n",
              "       [ 38.  ,  64.  ],\n",
              "       [ 34.  ,  78.  ],\n",
              "       [ 32.  , 103.  ],\n",
              "       [ 49.  ,  42.  ],\n",
              "       [ 19.  ,  15.  ],\n",
              "       [ 32.  ,  60.  ],\n",
              "       [ 65.  ,  63.  ],\n",
              "       [ 24.  ,  60.  ],\n",
              "       [ 63.  ,  48.  ],\n",
              "       [ 33.  ,  86.  ],\n",
              "       [ 24.  ,  38.  ],\n",
              "       [ 32.  ,  48.  ],\n",
              "       [ 31.  ,  40.  ],\n",
              "       [ 29.  ,  40.  ],\n",
              "       [ 48.  ,  54.  ],\n",
              "       [ 24.  ,  20.  ],\n",
              "       [ 29.  ,  79.  ],\n",
              "       [ 31.  ,  25.  ],\n",
              "       [ 54.  , 101.  ],\n",
              "       [ 29.  ,  73.  ],\n",
              "       [ 35.  ,  24.  ],\n",
              "       [ 22.  ,  20.  ],\n",
              "       [ 23.  ,  54.  ],\n",
              "       [ 49.  ,  62.  ],\n",
              "       [ 31.  ,  43.  ],\n",
              "       [ 23.  ,  62.  ],\n",
              "       [ 45.  ,  54.  ],\n",
              "       [ 23.  ,  16.  ],\n",
              "       [ 63.  ,  65.  ],\n",
              "       [ 50.  ,  85.  ],\n",
              "       [ 32.  , 132.75],\n",
              "       [ 35.  ,  18.  ],\n",
              "       [ 19.  ,  48.  ],\n",
              "       [ 21.  ,  54.  ],\n",
              "       [ 38.  ,  67.  ],\n",
              "       [ 27.  ,  78.  ],\n",
              "       [ 28.  ,  87.  ],\n",
              "       [ 37.  ,  78.  ],\n",
              "       [ 18.  ,  59.  ],\n",
              "       [ 30.  , 132.75],\n",
              "       [ 35.  ,  19.  ],\n",
              "       [ 50.  ,  67.  ],\n",
              "       [ 67.  ,  62.  ],\n",
              "       [ 21.  ,  33.  ],\n",
              "       [ 69.  ,  44.  ],\n",
              "       [ 18.  ,  48.  ],\n",
              "       [ 21.  ,  15.  ],\n",
              "       [ 27.  ,  67.  ],\n",
              "       [ 19.  ,  81.  ],\n",
              "       [ 48.  ,  39.  ],\n",
              "       [ 21.  ,  62.  ],\n",
              "       [ 25.  ,  72.  ],\n",
              "       [ 36.  ,  87.  ],\n",
              "       [ 20.  ,  21.  ],\n",
              "       [ 36.  ,  37.  ],\n",
              "       [ 31.  ,  72.  ],\n",
              "       [ 59.  ,  43.  ],\n",
              "       [ 30.  ,  78.  ],\n",
              "       [ 59.  ,  71.  ],\n",
              "       [ 49.  ,  33.  ],\n",
              "       [ 40.  ,  29.  ],\n",
              "       [ 18.  ,  65.  ],\n",
              "       [ 39.  ,  78.  ],\n",
              "       [ 21.  ,  30.  ],\n",
              "       [ 42.  ,  86.  ],\n",
              "       [ 40.  ,  71.  ],\n",
              "       [ 58.  ,  88.  ],\n",
              "       [ 53.  ,  33.  ],\n",
              "       [ 28.  ,  76.  ],\n",
              "       [ 32.  ,  87.  ],\n",
              "       [ 32.  ,  77.  ],\n",
              "       [ 23.  ,  29.  ],\n",
              "       [ 20.  ,  61.  ],\n",
              "       [ 67.  ,  54.  ],\n",
              "       [ 49.  ,  54.  ],\n",
              "       [ 19.  ,  65.  ],\n",
              "       [ 34.  ,  78.  ],\n",
              "       [ 38.  , 113.  ],\n",
              "       [ 60.  ,  50.  ],\n",
              "       [ 40.  ,  54.  ],\n",
              "       [ 29.  ,  28.  ],\n",
              "       [ 36.  ,  85.  ],\n",
              "       [ 38.  ,  54.  ],\n",
              "       [ 41.  , 103.  ],\n",
              "       [ 52.  ,  88.  ],\n",
              "       [ 34.  , 103.  ],\n",
              "       [ 20.  ,  37.  ],\n",
              "       [ 27.  ,  46.  ],\n",
              "       [ 57.  ,  75.  ],\n",
              "       [ 34.  ,  58.  ],\n",
              "       [ 70.  ,  49.  ],\n",
              "       [ 22.  ,  57.  ],\n",
              "       [ 42.  ,  34.  ],\n",
              "       [ 25.  ,  24.  ],\n",
              "       [ 30.  ,  19.  ],\n",
              "       [ 26.  ,  62.  ],\n",
              "       [ 68.  ,  48.  ],\n",
              "       [ 33.  , 113.  ],\n",
              "       [ 49.  ,  65.  ],\n",
              "       [ 27.  ,  40.  ],\n",
              "       [ 36.  ,  87.  ]])"
            ]
          },
          "metadata": {},
          "execution_count": 38
        }
      ]
    },
    {
      "cell_type": "code",
      "source": [
        "x_train.shape"
      ],
      "metadata": {
        "colab": {
          "base_uri": "https://localhost:8080/"
        },
        "id": "J9z7A4T8epRO",
        "outputId": "9f03a195-2659-4225-c81f-e6eb6a0a06de"
      },
      "execution_count": 39,
      "outputs": [
        {
          "output_type": "execute_result",
          "data": {
            "text/plain": [
              "(140, 2)"
            ]
          },
          "metadata": {},
          "execution_count": 39
        }
      ]
    },
    {
      "cell_type": "code",
      "source": [
        "x_test\n"
      ],
      "metadata": {
        "colab": {
          "base_uri": "https://localhost:8080/"
        },
        "id": "gTsVmHfNerWm",
        "outputId": "dee143e4-d6a9-4249-cbb0-88926aa42516"
      },
      "execution_count": 40,
      "outputs": [
        {
          "output_type": "execute_result",
          "data": {
            "text/plain": [
              "array([[ 52.,  23.],\n",
              "       [ 40.,  87.],\n",
              "       [ 54.,  63.],\n",
              "       [ 48.,  61.],\n",
              "       [ 27.,  88.],\n",
              "       [ 46.,  98.],\n",
              "       [ 22.,  17.],\n",
              "       [ 48.,  77.],\n",
              "       [ 58.,  20.],\n",
              "       [ 44.,  78.],\n",
              "       [ 19.,  46.],\n",
              "       [ 31.,  70.],\n",
              "       [ 37.,  97.],\n",
              "       [ 47.,  78.],\n",
              "       [ 57.,  54.],\n",
              "       [ 23.,  18.],\n",
              "       [ 18.,  33.],\n",
              "       [ 47.,  71.],\n",
              "       [ 30.,  34.],\n",
              "       [ 59.,  54.],\n",
              "       [ 29.,  98.],\n",
              "       [ 28.,  77.],\n",
              "       [ 24.,  39.],\n",
              "       [ 30.,  78.],\n",
              "       [ 70.,  46.],\n",
              "       [ 39.,  69.],\n",
              "       [ 35.,  93.],\n",
              "       [ 30.,  99.],\n",
              "       [ 40.,  69.],\n",
              "       [ 49.,  39.],\n",
              "       [ 35.,  21.],\n",
              "       [ 47.,  43.],\n",
              "       [ 43.,  78.],\n",
              "       [ 19.,  63.],\n",
              "       [ 46.,  25.],\n",
              "       [ 36., 103.],\n",
              "       [ 38.,  71.],\n",
              "       [ 31.,  17.],\n",
              "       [ 46.,  54.],\n",
              "       [ 66.,  63.],\n",
              "       [ 20.,  73.],\n",
              "       [ 43.,  48.],\n",
              "       [ 45.,  28.],\n",
              "       [ 19.,  64.],\n",
              "       [ 36.,  87.],\n",
              "       [ 54.,  47.],\n",
              "       [ 64.,  19.],\n",
              "       [ 26.,  54.],\n",
              "       [ 51.,  67.],\n",
              "       [ 32.,  76.],\n",
              "       [ 47.,  49.],\n",
              "       [ 23.,  70.],\n",
              "       [ 41.,  99.],\n",
              "       [ 27.,  60.],\n",
              "       [ 34.,  78.],\n",
              "       [ 54.,  28.],\n",
              "       [ 60.,  30.],\n",
              "       [ 56.,  79.],\n",
              "       [ 65.,  38.],\n",
              "       [ 51.,  44.]])"
            ]
          },
          "metadata": {},
          "execution_count": 40
        }
      ]
    },
    {
      "cell_type": "code",
      "source": [
        "x_test.shape"
      ],
      "metadata": {
        "colab": {
          "base_uri": "https://localhost:8080/"
        },
        "id": "4soaXNA2evV_",
        "outputId": "163cd296-e1d8-4408-d27a-8bdd6b0ed0bd"
      },
      "execution_count": 41,
      "outputs": [
        {
          "output_type": "execute_result",
          "data": {
            "text/plain": [
              "(60, 2)"
            ]
          },
          "metadata": {},
          "execution_count": 41
        }
      ]
    },
    {
      "cell_type": "code",
      "source": [
        "y_train"
      ],
      "metadata": {
        "colab": {
          "base_uri": "https://localhost:8080/"
        },
        "id": "m3Zd8R3Uexef",
        "outputId": "3cee6943-1558-434d-fcb4-bdbf0103edd7"
      },
      "execution_count": 42,
      "outputs": [
        {
          "output_type": "execute_result",
          "data": {
            "text/plain": [
              "array([75, 47, 86, 98, 76, 49, 45, 93, 60, 58, 72, 55, 73, 48, 12, 46, 48,\n",
              "       13, 61, 93, 68, 55, 10, 79, 43, 52,  6, 46,  7, 74, 61, 14, 16, 56,\n",
              "       28, 14, 86, 35, 40, 42,  1, 69, 52, 39, 42, 52, 52, 51, 95, 92, 47,\n",
              "       42, 42, 46, 77, 83, 73, 24, 88, 35, 79, 52, 56, 54, 41, 53, 77, 43,\n",
              "       26, 18,  6, 59, 57, 40, 89, 75,  1, 41, 83, 99, 57, 59, 81, 46, 59,\n",
              "       81, 56,  5, 36, 42, 34, 92, 66, 26, 71, 60, 78, 11, 14, 31, 48, 88,\n",
              "       73, 20, 95, 15,  4, 40, 63, 74, 87, 49, 41, 42, 50, 22, 91, 49, 48,\n",
              "       82, 75, 55, 17, 13, 23, 75, 51,  5, 60, 55, 55, 17, 73, 72, 55, 48,\n",
              "        8, 59, 47, 10])"
            ]
          },
          "metadata": {},
          "execution_count": 42
        }
      ]
    },
    {
      "cell_type": "code",
      "source": [
        "y_test"
      ],
      "metadata": {
        "colab": {
          "base_uri": "https://localhost:8080/"
        },
        "id": "WGjBDPV6ezFC",
        "outputId": "7f8d1e0d-fc3a-4996-f029-a70701e75dd5"
      },
      "execution_count": 43,
      "outputs": [
        {
          "output_type": "execute_result",
          "data": {
            "text/plain": [
              "array([29, 13, 46, 42, 69, 15, 76, 36, 15, 20, 55, 77, 32, 16, 51, 94, 92,\n",
              "        9, 73, 47, 88, 97, 65, 73, 56, 91, 90, 97, 58, 28, 35, 41, 17, 54,\n",
              "        5, 85, 75, 40, 44, 50,  5, 50, 32, 46, 27, 59,  3, 54, 43, 87, 42,\n",
              "       29, 39, 50, 90, 14,  4, 35, 35, 50])"
            ]
          },
          "metadata": {},
          "execution_count": 43
        }
      ]
    },
    {
      "cell_type": "markdown",
      "source": [
        "Training the model"
      ],
      "metadata": {
        "id": "3NMXUg1Ae18-"
      }
    },
    {
      "cell_type": "code",
      "source": [
        "from sklearn.ensemble import RandomForestRegressor\n",
        "regressor = RandomForestRegressor()\n",
        "regressor.fit(x, y)"
      ],
      "metadata": {
        "colab": {
          "base_uri": "https://localhost:8080/"
        },
        "id": "1mlwQk7Pe5pV",
        "outputId": "60f54882-7bae-4b03-810e-bd9e5d9dc5b0"
      },
      "execution_count": 44,
      "outputs": [
        {
          "output_type": "execute_result",
          "data": {
            "text/plain": [
              "RandomForestRegressor()"
            ]
          },
          "metadata": {},
          "execution_count": 44
        }
      ]
    },
    {
      "cell_type": "markdown",
      "source": [
        "Testing the model"
      ],
      "metadata": {
        "id": "l3YPhz3se8KS"
      }
    },
    {
      "cell_type": "code",
      "source": [
        "from sklearn.metrics import mean_absolute_error,mean_squared_error,r2_score\n",
        "y_pred=regressor.predict(x_test)\n",
        "yu=regressor.predict([[ 19.  ,  15.  ]])\n",
        "yu"
      ],
      "metadata": {
        "colab": {
          "base_uri": "https://localhost:8080/"
        },
        "id": "uphABhEke9pO",
        "outputId": "d9133206-1ea0-4709-a41d-f5054194fb67"
      },
      "execution_count": 45,
      "outputs": [
        {
          "output_type": "execute_result",
          "data": {
            "text/plain": [
              "array([42.5])"
            ]
          },
          "metadata": {},
          "execution_count": 45
        }
      ]
    },
    {
      "cell_type": "markdown",
      "source": [
        "Measuring The Performance Using Metrics"
      ],
      "metadata": {
        "id": "aGNxzz-ZfEDW"
      }
    },
    {
      "cell_type": "code",
      "source": [
        "print(\"MAE:\",mean_absolute_error(y_test,y_pred))"
      ],
      "metadata": {
        "colab": {
          "base_uri": "https://localhost:8080/"
        },
        "id": "s7AUmtYVfHrG",
        "outputId": "7aa1b8bd-c33d-4432-eff5-b7dd0e834245"
      },
      "execution_count": 46,
      "outputs": [
        {
          "output_type": "stream",
          "name": "stdout",
          "text": [
            "MAE: 5.717562103174603\n"
          ]
        }
      ]
    },
    {
      "cell_type": "code",
      "source": [
        "print(\"MSE:\",mean_squared_error(y_test,y_pred))"
      ],
      "metadata": {
        "colab": {
          "base_uri": "https://localhost:8080/"
        },
        "id": "D4COlxsDfJt-",
        "outputId": "1769504c-a689-4a5d-d85d-9b2419bc76ab"
      },
      "execution_count": 47,
      "outputs": [
        {
          "output_type": "stream",
          "name": "stdout",
          "text": [
            "MSE: 89.0335908389763\n"
          ]
        }
      ]
    },
    {
      "cell_type": "code",
      "source": [
        "print(\"RMSE:\",np.sqrt(mean_squared_error(y_test,y_pred)))"
      ],
      "metadata": {
        "colab": {
          "base_uri": "https://localhost:8080/"
        },
        "id": "wjEk1BlsfLq2",
        "outputId": "3ee1f552-8354-4b26-dd5c-55608b93222a"
      },
      "execution_count": 48,
      "outputs": [
        {
          "output_type": "stream",
          "name": "stdout",
          "text": [
            "RMSE: 9.435761275009892\n"
          ]
        }
      ]
    },
    {
      "cell_type": "code",
      "source": [
        "print(\"R2-Score:\",r2_score(y_test,y_pred))"
      ],
      "metadata": {
        "colab": {
          "base_uri": "https://localhost:8080/"
        },
        "id": "gcknAGp3fRF2",
        "outputId": "82267e4d-edcb-4777-b89f-f4a215e826cb"
      },
      "execution_count": 49,
      "outputs": [
        {
          "output_type": "stream",
          "name": "stdout",
          "text": [
            "R2-Score: 0.8758661971370477\n"
          ]
        }
      ]
    }
  ]
}